{
 "cells": [
  {
   "cell_type": "code",
   "execution_count": 133,
   "metadata": {},
   "outputs": [],
   "source": [
    "import warnings\n",
    "warnings.filterwarnings('ignore')\n",
    "\n",
    "import pandas as pd\n",
    "import numpy as np\n",
    "\n",
    "import statsmodels.api as sm\n",
    "import scipy.stats as scs\n",
    "from statsmodels.stats.outliers_influence import variance_inflation_factor\n",
    "\n",
    "import matplotlib\n",
    "import matplotlib.pyplot as plt\n",
    "%matplotlib inline\n",
    "from pandas.plotting import scatter_matrix\n",
    "from sklearn.linear_model import LogisticRegression\n",
    "from sklearn.metrics import confusion_matrix, roc_auc_score, roc_curve\n",
    "import seaborn as sns"
   ]
  },
  {
   "cell_type": "markdown",
   "metadata": {},
   "source": [
    "![](https://encrypted-tbn0.gstatic.com/images?q=tbn:ANd9GcQl6AEsGNO6cIkscI0aTDM0KhopmyM7mNTzRuCSZLDFbibTQ2FqcQ)\n",
    "\n",
    "https://github.com/brendan-drew/County-Medicare-Spending\n",
    "    \n",
    "Analysis of Medicare spending by County"
   ]
  },
  {
   "cell_type": "code",
   "execution_count": 134,
   "metadata": {},
   "outputs": [],
   "source": [
    "df_medi = pd.read_csv('cleaned_medicare_county_all.csv')"
   ]
  },
  {
   "cell_type": "code",
   "execution_count": 135,
   "metadata": {},
   "outputs": [
    {
     "data": {
      "text/html": [
       "<div>\n",
       "<style scoped>\n",
       "    .dataframe tbody tr th:only-of-type {\n",
       "        vertical-align: middle;\n",
       "    }\n",
       "\n",
       "    .dataframe tbody tr th {\n",
       "        vertical-align: top;\n",
       "    }\n",
       "\n",
       "    .dataframe thead th {\n",
       "        text-align: right;\n",
       "    }\n",
       "</style>\n",
       "<table border=\"1\" class=\"dataframe\">\n",
       "  <thead>\n",
       "    <tr style=\"text-align: right;\">\n",
       "      <th></th>\n",
       "      <th>Unnamed: 0</th>\n",
       "      <th>unnamed:_0</th>\n",
       "      <th>state</th>\n",
       "      <th>county</th>\n",
       "      <th>state_and_county_fips_code</th>\n",
       "      <th>beneficiaries_with_part_a_and_part_b</th>\n",
       "      <th>ffs_beneficiaries</th>\n",
       "      <th>ma_beneficiaries</th>\n",
       "      <th>ma_participation_rate</th>\n",
       "      <th>average_age</th>\n",
       "      <th>...</th>\n",
       "      <th>ambulance_per_capita_standardized_costs</th>\n",
       "      <th>ambulance_per_user_standardized_costs</th>\n",
       "      <th>#_ambulance_users</th>\n",
       "      <th>%_of_beneficiaries_using_ambulance</th>\n",
       "      <th>ambulance_events_per_1000_beneficiaries</th>\n",
       "      <th>number_of_acute_hospital_readmissions</th>\n",
       "      <th>hospital_readmission_rate</th>\n",
       "      <th>emergency_department_visits</th>\n",
       "      <th>emergency_department_visits_per_1000_beneficiaries</th>\n",
       "      <th>year</th>\n",
       "    </tr>\n",
       "  </thead>\n",
       "  <tbody>\n",
       "    <tr>\n",
       "      <th>0</th>\n",
       "      <td>2</td>\n",
       "      <td>2</td>\n",
       "      <td>AK</td>\n",
       "      <td>ANCHORAGE</td>\n",
       "      <td>2020</td>\n",
       "      <td>21981.0</td>\n",
       "      <td>21752.0</td>\n",
       "      <td>229.0</td>\n",
       "      <td>1.04</td>\n",
       "      <td>69.0</td>\n",
       "      <td>...</td>\n",
       "      <td>80.40</td>\n",
       "      <td>703.82</td>\n",
       "      <td>2485.0</td>\n",
       "      <td>0.1142</td>\n",
       "      <td>221.0</td>\n",
       "      <td>825.0</td>\n",
       "      <td>0.1639</td>\n",
       "      <td>13419.0</td>\n",
       "      <td>617.0</td>\n",
       "      <td>2007</td>\n",
       "    </tr>\n",
       "    <tr>\n",
       "      <th>1</th>\n",
       "      <td>3</td>\n",
       "      <td>3</td>\n",
       "      <td>AK</td>\n",
       "      <td>BETHEL</td>\n",
       "      <td>2050</td>\n",
       "      <td>661.0</td>\n",
       "      <td>661.0</td>\n",
       "      <td>0.0</td>\n",
       "      <td>0.00</td>\n",
       "      <td>71.0</td>\n",
       "      <td>...</td>\n",
       "      <td>850.08</td>\n",
       "      <td>5853.13</td>\n",
       "      <td>96.0</td>\n",
       "      <td>0.1452</td>\n",
       "      <td>454.0</td>\n",
       "      <td>40.0</td>\n",
       "      <td>0.1961</td>\n",
       "      <td>17.0</td>\n",
       "      <td>26.0</td>\n",
       "      <td>2007</td>\n",
       "    </tr>\n",
       "    <tr>\n",
       "      <th>2</th>\n",
       "      <td>4</td>\n",
       "      <td>4</td>\n",
       "      <td>AK</td>\n",
       "      <td>BRISTOL BAY</td>\n",
       "      <td>2060</td>\n",
       "      <td>NaN</td>\n",
       "      <td>630.0</td>\n",
       "      <td>NaN</td>\n",
       "      <td>NaN</td>\n",
       "      <td>68.0</td>\n",
       "      <td>...</td>\n",
       "      <td>157.62</td>\n",
       "      <td>1460.27</td>\n",
       "      <td>68.0</td>\n",
       "      <td>0.1079</td>\n",
       "      <td>192.0</td>\n",
       "      <td>20.0</td>\n",
       "      <td>0.1538</td>\n",
       "      <td>312.0</td>\n",
       "      <td>495.0</td>\n",
       "      <td>2007</td>\n",
       "    </tr>\n",
       "    <tr>\n",
       "      <th>3</th>\n",
       "      <td>5</td>\n",
       "      <td>5</td>\n",
       "      <td>AK</td>\n",
       "      <td>DENALI</td>\n",
       "      <td>2068</td>\n",
       "      <td>NaN</td>\n",
       "      <td>NaN</td>\n",
       "      <td>NaN</td>\n",
       "      <td>NaN</td>\n",
       "      <td>NaN</td>\n",
       "      <td>...</td>\n",
       "      <td>NaN</td>\n",
       "      <td>NaN</td>\n",
       "      <td>NaN</td>\n",
       "      <td>NaN</td>\n",
       "      <td>NaN</td>\n",
       "      <td>NaN</td>\n",
       "      <td>NaN</td>\n",
       "      <td>NaN</td>\n",
       "      <td>NaN</td>\n",
       "      <td>2007</td>\n",
       "    </tr>\n",
       "    <tr>\n",
       "      <th>4</th>\n",
       "      <td>6</td>\n",
       "      <td>6</td>\n",
       "      <td>AK</td>\n",
       "      <td>DILLINGHAM</td>\n",
       "      <td>2070</td>\n",
       "      <td>NaN</td>\n",
       "      <td>387.0</td>\n",
       "      <td>NaN</td>\n",
       "      <td>NaN</td>\n",
       "      <td>71.0</td>\n",
       "      <td>...</td>\n",
       "      <td>378.53</td>\n",
       "      <td>3677.59</td>\n",
       "      <td>40.0</td>\n",
       "      <td>0.1029</td>\n",
       "      <td>258.0</td>\n",
       "      <td>17.0</td>\n",
       "      <td>0.1635</td>\n",
       "      <td>41.0</td>\n",
       "      <td>106.0</td>\n",
       "      <td>2007</td>\n",
       "    </tr>\n",
       "  </tbody>\n",
       "</table>\n",
       "<p>5 rows × 221 columns</p>\n",
       "</div>"
      ],
      "text/plain": [
       "   Unnamed: 0  unnamed:_0 state       county  state_and_county_fips_code  \\\n",
       "0           2           2    AK    ANCHORAGE                        2020   \n",
       "1           3           3    AK       BETHEL                        2050   \n",
       "2           4           4    AK  BRISTOL BAY                        2060   \n",
       "3           5           5    AK       DENALI                        2068   \n",
       "4           6           6    AK   DILLINGHAM                        2070   \n",
       "\n",
       "   beneficiaries_with_part_a_and_part_b  ffs_beneficiaries  ma_beneficiaries  \\\n",
       "0                               21981.0            21752.0             229.0   \n",
       "1                                 661.0              661.0               0.0   \n",
       "2                                   NaN              630.0               NaN   \n",
       "3                                   NaN                NaN               NaN   \n",
       "4                                   NaN              387.0               NaN   \n",
       "\n",
       "   ma_participation_rate  average_age  ...   \\\n",
       "0                   1.04         69.0  ...    \n",
       "1                   0.00         71.0  ...    \n",
       "2                    NaN         68.0  ...    \n",
       "3                    NaN          NaN  ...    \n",
       "4                    NaN         71.0  ...    \n",
       "\n",
       "   ambulance_per_capita_standardized_costs  \\\n",
       "0                                    80.40   \n",
       "1                                   850.08   \n",
       "2                                   157.62   \n",
       "3                                      NaN   \n",
       "4                                   378.53   \n",
       "\n",
       "   ambulance_per_user_standardized_costs  #_ambulance_users  \\\n",
       "0                                 703.82             2485.0   \n",
       "1                                5853.13               96.0   \n",
       "2                                1460.27               68.0   \n",
       "3                                    NaN                NaN   \n",
       "4                                3677.59               40.0   \n",
       "\n",
       "   %_of_beneficiaries_using_ambulance  \\\n",
       "0                              0.1142   \n",
       "1                              0.1452   \n",
       "2                              0.1079   \n",
       "3                                 NaN   \n",
       "4                              0.1029   \n",
       "\n",
       "   ambulance_events_per_1000_beneficiaries  \\\n",
       "0                                    221.0   \n",
       "1                                    454.0   \n",
       "2                                    192.0   \n",
       "3                                      NaN   \n",
       "4                                    258.0   \n",
       "\n",
       "   number_of_acute_hospital_readmissions  hospital_readmission_rate  \\\n",
       "0                                  825.0                     0.1639   \n",
       "1                                   40.0                     0.1961   \n",
       "2                                   20.0                     0.1538   \n",
       "3                                    NaN                        NaN   \n",
       "4                                   17.0                     0.1635   \n",
       "\n",
       "   emergency_department_visits  \\\n",
       "0                      13419.0   \n",
       "1                         17.0   \n",
       "2                        312.0   \n",
       "3                          NaN   \n",
       "4                         41.0   \n",
       "\n",
       "   emergency_department_visits_per_1000_beneficiaries  year  \n",
       "0                                              617.0   2007  \n",
       "1                                               26.0   2007  \n",
       "2                                              495.0   2007  \n",
       "3                                                NaN   2007  \n",
       "4                                              106.0   2007  \n",
       "\n",
       "[5 rows x 221 columns]"
      ]
     },
     "execution_count": 135,
     "metadata": {},
     "output_type": "execute_result"
    }
   ],
   "source": [
    "df_medi.head()"
   ]
  },
  {
   "cell_type": "code",
   "execution_count": 136,
   "metadata": {},
   "outputs": [
    {
     "name": "stdout",
     "output_type": "stream",
     "text": [
      "<class 'pandas.core.frame.DataFrame'>\n",
      "RangeIndex: 25088 entries, 0 to 25087\n",
      "Columns: 221 entries, Unnamed: 0 to year\n",
      "dtypes: float64(215), int64(4), object(2)\n",
      "memory usage: 42.3+ MB\n"
     ]
    }
   ],
   "source": [
    "df_medi.info()"
   ]
  },
  {
   "cell_type": "code",
   "execution_count": 137,
   "metadata": {},
   "outputs": [
    {
     "data": {
      "text/html": [
       "<div>\n",
       "<style scoped>\n",
       "    .dataframe tbody tr th:only-of-type {\n",
       "        vertical-align: middle;\n",
       "    }\n",
       "\n",
       "    .dataframe tbody tr th {\n",
       "        vertical-align: top;\n",
       "    }\n",
       "\n",
       "    .dataframe thead th {\n",
       "        text-align: right;\n",
       "    }\n",
       "</style>\n",
       "<table border=\"1\" class=\"dataframe\">\n",
       "  <thead>\n",
       "    <tr style=\"text-align: right;\">\n",
       "      <th></th>\n",
       "      <th>Unnamed: 0</th>\n",
       "      <th>unnamed:_0</th>\n",
       "      <th>state_and_county_fips_code</th>\n",
       "      <th>beneficiaries_with_part_a_and_part_b</th>\n",
       "      <th>ffs_beneficiaries</th>\n",
       "      <th>ma_beneficiaries</th>\n",
       "      <th>ma_participation_rate</th>\n",
       "      <th>average_age</th>\n",
       "      <th>percent_female</th>\n",
       "      <th>percent_male</th>\n",
       "      <th>...</th>\n",
       "      <th>ambulance_per_capita_standardized_costs</th>\n",
       "      <th>ambulance_per_user_standardized_costs</th>\n",
       "      <th>#_ambulance_users</th>\n",
       "      <th>%_of_beneficiaries_using_ambulance</th>\n",
       "      <th>ambulance_events_per_1000_beneficiaries</th>\n",
       "      <th>number_of_acute_hospital_readmissions</th>\n",
       "      <th>hospital_readmission_rate</th>\n",
       "      <th>emergency_department_visits</th>\n",
       "      <th>emergency_department_visits_per_1000_beneficiaries</th>\n",
       "      <th>year</th>\n",
       "    </tr>\n",
       "  </thead>\n",
       "  <tbody>\n",
       "    <tr>\n",
       "      <th>count</th>\n",
       "      <td>25088.000000</td>\n",
       "      <td>25088.000000</td>\n",
       "      <td>25088.000000</td>\n",
       "      <td>2.461900e+04</td>\n",
       "      <td>25056.000000</td>\n",
       "      <td>24619.000000</td>\n",
       "      <td>24619.000000</td>\n",
       "      <td>25056.000000</td>\n",
       "      <td>25040.000000</td>\n",
       "      <td>25040.000000</td>\n",
       "      <td>...</td>\n",
       "      <td>24764.000000</td>\n",
       "      <td>24764.000000</td>\n",
       "      <td>24764.000000</td>\n",
       "      <td>24764.000000</td>\n",
       "      <td>24764.000000</td>\n",
       "      <td>24459.000000</td>\n",
       "      <td>24459.000000</td>\n",
       "      <td>25040.000000</td>\n",
       "      <td>25040.000000</td>\n",
       "      <td>25088.000000</td>\n",
       "    </tr>\n",
       "    <tr>\n",
       "      <th>mean</th>\n",
       "      <td>12764.389668</td>\n",
       "      <td>1595.889668</td>\n",
       "      <td>30433.607781</td>\n",
       "      <td>1.494444e+04</td>\n",
       "      <td>10615.425407</td>\n",
       "      <td>4147.962955</td>\n",
       "      <td>18.260714</td>\n",
       "      <td>71.338163</td>\n",
       "      <td>54.241135</td>\n",
       "      <td>45.758973</td>\n",
       "      <td>...</td>\n",
       "      <td>127.897625</td>\n",
       "      <td>1172.981451</td>\n",
       "      <td>1237.225852</td>\n",
       "      <td>0.107054</td>\n",
       "      <td>325.711436</td>\n",
       "      <td>608.325933</td>\n",
       "      <td>0.174855</td>\n",
       "      <td>6770.929832</td>\n",
       "      <td>639.550998</td>\n",
       "      <td>2010.500000</td>\n",
       "    </tr>\n",
       "    <tr>\n",
       "      <th>std</th>\n",
       "      <td>7369.280774</td>\n",
       "      <td>919.860301</td>\n",
       "      <td>15130.319015</td>\n",
       "      <td>3.939407e+04</td>\n",
       "      <td>25031.633746</td>\n",
       "      <td>16019.633856</td>\n",
       "      <td>12.659863</td>\n",
       "      <td>2.050643</td>\n",
       "      <td>2.594570</td>\n",
       "      <td>2.594576</td>\n",
       "      <td>...</td>\n",
       "      <td>87.127116</td>\n",
       "      <td>616.150278</td>\n",
       "      <td>2964.618384</td>\n",
       "      <td>0.036182</td>\n",
       "      <td>229.932692</td>\n",
       "      <td>1743.009518</td>\n",
       "      <td>0.030203</td>\n",
       "      <td>15244.923961</td>\n",
       "      <td>146.247132</td>\n",
       "      <td>2.291334</td>\n",
       "    </tr>\n",
       "    <tr>\n",
       "      <th>min</th>\n",
       "      <td>2.000000</td>\n",
       "      <td>2.000000</td>\n",
       "      <td>1001.000000</td>\n",
       "      <td>1.200000e+01</td>\n",
       "      <td>12.000000</td>\n",
       "      <td>0.000000</td>\n",
       "      <td>0.000000</td>\n",
       "      <td>62.000000</td>\n",
       "      <td>40.130000</td>\n",
       "      <td>31.710000</td>\n",
       "      <td>...</td>\n",
       "      <td>0.000000</td>\n",
       "      <td>0.000000</td>\n",
       "      <td>0.000000</td>\n",
       "      <td>0.000000</td>\n",
       "      <td>0.000000</td>\n",
       "      <td>0.000000</td>\n",
       "      <td>0.000000</td>\n",
       "      <td>12.000000</td>\n",
       "      <td>26.000000</td>\n",
       "      <td>2007.000000</td>\n",
       "    </tr>\n",
       "    <tr>\n",
       "      <th>25%</th>\n",
       "      <td>6383.000000</td>\n",
       "      <td>799.750000</td>\n",
       "      <td>19002.500000</td>\n",
       "      <td>2.251000e+03</td>\n",
       "      <td>1792.000000</td>\n",
       "      <td>240.000000</td>\n",
       "      <td>8.590000</td>\n",
       "      <td>70.000000</td>\n",
       "      <td>52.880000</td>\n",
       "      <td>43.970000</td>\n",
       "      <td>...</td>\n",
       "      <td>77.015000</td>\n",
       "      <td>815.410000</td>\n",
       "      <td>157.000000</td>\n",
       "      <td>0.089400</td>\n",
       "      <td>182.000000</td>\n",
       "      <td>92.000000</td>\n",
       "      <td>0.156300</td>\n",
       "      <td>1112.000000</td>\n",
       "      <td>545.000000</td>\n",
       "      <td>2008.750000</td>\n",
       "    </tr>\n",
       "    <tr>\n",
       "      <th>50%</th>\n",
       "      <td>12764.000000</td>\n",
       "      <td>1594.500000</td>\n",
       "      <td>29182.000000</td>\n",
       "      <td>4.944000e+03</td>\n",
       "      <td>3871.000000</td>\n",
       "      <td>725.000000</td>\n",
       "      <td>15.310000</td>\n",
       "      <td>71.000000</td>\n",
       "      <td>54.600000</td>\n",
       "      <td>45.400000</td>\n",
       "      <td>...</td>\n",
       "      <td>113.975000</td>\n",
       "      <td>1018.990000</td>\n",
       "      <td>415.000000</td>\n",
       "      <td>0.113400</td>\n",
       "      <td>282.000000</td>\n",
       "      <td>205.000000</td>\n",
       "      <td>0.175400</td>\n",
       "      <td>2594.500000</td>\n",
       "      <td>638.000000</td>\n",
       "      <td>2010.500000</td>\n",
       "    </tr>\n",
       "    <tr>\n",
       "      <th>75%</th>\n",
       "      <td>19145.000000</td>\n",
       "      <td>2394.250000</td>\n",
       "      <td>45083.500000</td>\n",
       "      <td>1.189600e+04</td>\n",
       "      <td>9237.250000</td>\n",
       "      <td>2302.000000</td>\n",
       "      <td>24.785000</td>\n",
       "      <td>73.000000</td>\n",
       "      <td>56.030000</td>\n",
       "      <td>47.120000</td>\n",
       "      <td>...</td>\n",
       "      <td>157.892500</td>\n",
       "      <td>1331.977500</td>\n",
       "      <td>1058.000000</td>\n",
       "      <td>0.131200</td>\n",
       "      <td>407.000000</td>\n",
       "      <td>493.000000</td>\n",
       "      <td>0.193100</td>\n",
       "      <td>6199.250000</td>\n",
       "      <td>730.000000</td>\n",
       "      <td>2012.250000</td>\n",
       "    </tr>\n",
       "    <tr>\n",
       "      <th>max</th>\n",
       "      <td>25526.000000</td>\n",
       "      <td>3189.000000</td>\n",
       "      <td>56045.000000</td>\n",
       "      <td>1.214085e+06</td>\n",
       "      <td>610829.000000</td>\n",
       "      <td>684502.000000</td>\n",
       "      <td>69.340000</td>\n",
       "      <td>78.000000</td>\n",
       "      <td>68.290000</td>\n",
       "      <td>59.870000</td>\n",
       "      <td>...</td>\n",
       "      <td>2026.380000</td>\n",
       "      <td>12096.060000</td>\n",
       "      <td>69351.000000</td>\n",
       "      <td>0.280000</td>\n",
       "      <td>3481.000000</td>\n",
       "      <td>56952.000000</td>\n",
       "      <td>0.386100</td>\n",
       "      <td>380601.000000</td>\n",
       "      <td>2320.000000</td>\n",
       "      <td>2014.000000</td>\n",
       "    </tr>\n",
       "  </tbody>\n",
       "</table>\n",
       "<p>8 rows × 219 columns</p>\n",
       "</div>"
      ],
      "text/plain": [
       "         Unnamed: 0    unnamed:_0  state_and_county_fips_code  \\\n",
       "count  25088.000000  25088.000000                25088.000000   \n",
       "mean   12764.389668   1595.889668                30433.607781   \n",
       "std     7369.280774    919.860301                15130.319015   \n",
       "min        2.000000      2.000000                 1001.000000   \n",
       "25%     6383.000000    799.750000                19002.500000   \n",
       "50%    12764.000000   1594.500000                29182.000000   \n",
       "75%    19145.000000   2394.250000                45083.500000   \n",
       "max    25526.000000   3189.000000                56045.000000   \n",
       "\n",
       "       beneficiaries_with_part_a_and_part_b  ffs_beneficiaries  \\\n",
       "count                          2.461900e+04       25056.000000   \n",
       "mean                           1.494444e+04       10615.425407   \n",
       "std                            3.939407e+04       25031.633746   \n",
       "min                            1.200000e+01          12.000000   \n",
       "25%                            2.251000e+03        1792.000000   \n",
       "50%                            4.944000e+03        3871.000000   \n",
       "75%                            1.189600e+04        9237.250000   \n",
       "max                            1.214085e+06      610829.000000   \n",
       "\n",
       "       ma_beneficiaries  ma_participation_rate   average_age  percent_female  \\\n",
       "count      24619.000000           24619.000000  25056.000000    25040.000000   \n",
       "mean        4147.962955              18.260714     71.338163       54.241135   \n",
       "std        16019.633856              12.659863      2.050643        2.594570   \n",
       "min            0.000000               0.000000     62.000000       40.130000   \n",
       "25%          240.000000               8.590000     70.000000       52.880000   \n",
       "50%          725.000000              15.310000     71.000000       54.600000   \n",
       "75%         2302.000000              24.785000     73.000000       56.030000   \n",
       "max       684502.000000              69.340000     78.000000       68.290000   \n",
       "\n",
       "       percent_male      ...       ambulance_per_capita_standardized_costs  \\\n",
       "count  25040.000000      ...                                  24764.000000   \n",
       "mean      45.758973      ...                                    127.897625   \n",
       "std        2.594576      ...                                     87.127116   \n",
       "min       31.710000      ...                                      0.000000   \n",
       "25%       43.970000      ...                                     77.015000   \n",
       "50%       45.400000      ...                                    113.975000   \n",
       "75%       47.120000      ...                                    157.892500   \n",
       "max       59.870000      ...                                   2026.380000   \n",
       "\n",
       "       ambulance_per_user_standardized_costs  #_ambulance_users  \\\n",
       "count                           24764.000000       24764.000000   \n",
       "mean                             1172.981451        1237.225852   \n",
       "std                               616.150278        2964.618384   \n",
       "min                                 0.000000           0.000000   \n",
       "25%                               815.410000         157.000000   \n",
       "50%                              1018.990000         415.000000   \n",
       "75%                              1331.977500        1058.000000   \n",
       "max                             12096.060000       69351.000000   \n",
       "\n",
       "       %_of_beneficiaries_using_ambulance  \\\n",
       "count                        24764.000000   \n",
       "mean                             0.107054   \n",
       "std                              0.036182   \n",
       "min                              0.000000   \n",
       "25%                              0.089400   \n",
       "50%                              0.113400   \n",
       "75%                              0.131200   \n",
       "max                              0.280000   \n",
       "\n",
       "       ambulance_events_per_1000_beneficiaries  \\\n",
       "count                             24764.000000   \n",
       "mean                                325.711436   \n",
       "std                                 229.932692   \n",
       "min                                   0.000000   \n",
       "25%                                 182.000000   \n",
       "50%                                 282.000000   \n",
       "75%                                 407.000000   \n",
       "max                                3481.000000   \n",
       "\n",
       "       number_of_acute_hospital_readmissions  hospital_readmission_rate  \\\n",
       "count                           24459.000000               24459.000000   \n",
       "mean                              608.325933                   0.174855   \n",
       "std                              1743.009518                   0.030203   \n",
       "min                                 0.000000                   0.000000   \n",
       "25%                                92.000000                   0.156300   \n",
       "50%                               205.000000                   0.175400   \n",
       "75%                               493.000000                   0.193100   \n",
       "max                             56952.000000                   0.386100   \n",
       "\n",
       "       emergency_department_visits  \\\n",
       "count                 25040.000000   \n",
       "mean                   6770.929832   \n",
       "std                   15244.923961   \n",
       "min                      12.000000   \n",
       "25%                    1112.000000   \n",
       "50%                    2594.500000   \n",
       "75%                    6199.250000   \n",
       "max                  380601.000000   \n",
       "\n",
       "       emergency_department_visits_per_1000_beneficiaries          year  \n",
       "count                                       25040.000000   25088.000000  \n",
       "mean                                          639.550998    2010.500000  \n",
       "std                                           146.247132       2.291334  \n",
       "min                                            26.000000    2007.000000  \n",
       "25%                                           545.000000    2008.750000  \n",
       "50%                                           638.000000    2010.500000  \n",
       "75%                                           730.000000    2012.250000  \n",
       "max                                          2320.000000    2014.000000  \n",
       "\n",
       "[8 rows x 219 columns]"
      ]
     },
     "execution_count": 137,
     "metadata": {},
     "output_type": "execute_result"
    }
   ],
   "source": [
    "df_medi.describe()"
   ]
  },
  {
   "cell_type": "raw",
   "metadata": {},
   "source": [
    "List of Columns Taken From CSV\n",
    "\n",
    "state\n",
    "county\n",
    "year\n",
    "average_age\n",
    "percent_male\n",
    "percent_female\n",
    "percent_eligible_for_medicaid\n",
    "procedures_actual_costs\n",
    "total_actual_costs\n",
    "actual_per_capita_costs\n",
    "hospice_actual_costs\n",
    "imaging_actual_costs\n",
    "tests_actual_costs\n",
    "dme_actual_costs\n",
    "part_b_drugs_actual_costs\n",
    "ambulance_actual_costs\n",
    "hospital_readmission_rate\n",
    "emergency_department_visits"
   ]
  },
  {
   "cell_type": "code",
   "execution_count": 138,
   "metadata": {},
   "outputs": [],
   "source": [
    "# import pandas_profiling as pp\n",
    "# pp.ProfileReport(df_medi)"
   ]
  },
  {
   "cell_type": "code",
   "execution_count": 139,
   "metadata": {},
   "outputs": [
    {
     "data": {
      "text/html": [
       "<div>\n",
       "<style scoped>\n",
       "    .dataframe tbody tr th:only-of-type {\n",
       "        vertical-align: middle;\n",
       "    }\n",
       "\n",
       "    .dataframe tbody tr th {\n",
       "        vertical-align: top;\n",
       "    }\n",
       "\n",
       "    .dataframe thead th {\n",
       "        text-align: right;\n",
       "    }\n",
       "</style>\n",
       "<table border=\"1\" class=\"dataframe\">\n",
       "  <thead>\n",
       "    <tr style=\"text-align: right;\">\n",
       "      <th></th>\n",
       "      <th>state</th>\n",
       "      <th>county</th>\n",
       "      <th>year</th>\n",
       "      <th>average_age</th>\n",
       "      <th>percent_male</th>\n",
       "      <th>percent_female</th>\n",
       "      <th>percent_eligible_for_medicaid</th>\n",
       "      <th>procedures_actual_costs</th>\n",
       "      <th>total_actual_costs</th>\n",
       "      <th>actual_per_capita_costs</th>\n",
       "      <th>hospice_actual_costs</th>\n",
       "      <th>imaging_actual_costs</th>\n",
       "      <th>tests_actual_costs</th>\n",
       "      <th>dme_actual_costs</th>\n",
       "      <th>part_b_drugs_actual_costs</th>\n",
       "      <th>ambulance_actual_costs</th>\n",
       "      <th>hospital_readmission_rate</th>\n",
       "      <th>emergency_department_visits</th>\n",
       "    </tr>\n",
       "  </thead>\n",
       "  <tbody>\n",
       "    <tr>\n",
       "      <th>0</th>\n",
       "      <td>AK</td>\n",
       "      <td>ANCHORAGE</td>\n",
       "      <td>2007</td>\n",
       "      <td>69.0</td>\n",
       "      <td>46.71</td>\n",
       "      <td>53.29</td>\n",
       "      <td>25.23</td>\n",
       "      <td>9948252.37</td>\n",
       "      <td>1.454969e+08</td>\n",
       "      <td>6688.90</td>\n",
       "      <td>2385576.97</td>\n",
       "      <td>5326489.10</td>\n",
       "      <td>3409019.79</td>\n",
       "      <td>3449503.03</td>\n",
       "      <td>4964305.75</td>\n",
       "      <td>1959708.67</td>\n",
       "      <td>0.1639</td>\n",
       "      <td>13419.0</td>\n",
       "    </tr>\n",
       "    <tr>\n",
       "      <th>1</th>\n",
       "      <td>AK</td>\n",
       "      <td>BETHEL</td>\n",
       "      <td>2007</td>\n",
       "      <td>71.0</td>\n",
       "      <td>51.13</td>\n",
       "      <td>48.87</td>\n",
       "      <td>59.46</td>\n",
       "      <td>144239.83</td>\n",
       "      <td>4.999320e+06</td>\n",
       "      <td>7563.27</td>\n",
       "      <td>0.00</td>\n",
       "      <td>24270.65</td>\n",
       "      <td>17129.17</td>\n",
       "      <td>51971.34</td>\n",
       "      <td>NaN</td>\n",
       "      <td>604176.46</td>\n",
       "      <td>0.1961</td>\n",
       "      <td>17.0</td>\n",
       "    </tr>\n",
       "    <tr>\n",
       "      <th>2</th>\n",
       "      <td>AK</td>\n",
       "      <td>BRISTOL BAY</td>\n",
       "      <td>2007</td>\n",
       "      <td>68.0</td>\n",
       "      <td>50.63</td>\n",
       "      <td>49.37</td>\n",
       "      <td>19.21</td>\n",
       "      <td>253170.41</td>\n",
       "      <td>3.700871e+06</td>\n",
       "      <td>5874.40</td>\n",
       "      <td>NaN</td>\n",
       "      <td>108743.88</td>\n",
       "      <td>89983.38</td>\n",
       "      <td>82758.64</td>\n",
       "      <td>93777.59</td>\n",
       "      <td>111272.17</td>\n",
       "      <td>0.1538</td>\n",
       "      <td>312.0</td>\n",
       "    </tr>\n",
       "    <tr>\n",
       "      <th>3</th>\n",
       "      <td>AK</td>\n",
       "      <td>DENALI</td>\n",
       "      <td>2007</td>\n",
       "      <td>NaN</td>\n",
       "      <td>NaN</td>\n",
       "      <td>NaN</td>\n",
       "      <td>NaN</td>\n",
       "      <td>NaN</td>\n",
       "      <td>NaN</td>\n",
       "      <td>NaN</td>\n",
       "      <td>NaN</td>\n",
       "      <td>NaN</td>\n",
       "      <td>NaN</td>\n",
       "      <td>NaN</td>\n",
       "      <td>NaN</td>\n",
       "      <td>NaN</td>\n",
       "      <td>NaN</td>\n",
       "      <td>NaN</td>\n",
       "    </tr>\n",
       "    <tr>\n",
       "      <th>4</th>\n",
       "      <td>AK</td>\n",
       "      <td>DILLINGHAM</td>\n",
       "      <td>2007</td>\n",
       "      <td>71.0</td>\n",
       "      <td>51.42</td>\n",
       "      <td>48.58</td>\n",
       "      <td>51.68</td>\n",
       "      <td>123053.76</td>\n",
       "      <td>3.975036e+06</td>\n",
       "      <td>10271.41</td>\n",
       "      <td>NaN</td>\n",
       "      <td>31771.02</td>\n",
       "      <td>20146.42</td>\n",
       "      <td>23715.10</td>\n",
       "      <td>5845.17</td>\n",
       "      <td>156522.44</td>\n",
       "      <td>0.1635</td>\n",
       "      <td>41.0</td>\n",
       "    </tr>\n",
       "  </tbody>\n",
       "</table>\n",
       "</div>"
      ],
      "text/plain": [
       "  state       county  year  average_age  percent_male  percent_female  \\\n",
       "0    AK    ANCHORAGE  2007         69.0         46.71           53.29   \n",
       "1    AK       BETHEL  2007         71.0         51.13           48.87   \n",
       "2    AK  BRISTOL BAY  2007         68.0         50.63           49.37   \n",
       "3    AK       DENALI  2007          NaN           NaN             NaN   \n",
       "4    AK   DILLINGHAM  2007         71.0         51.42           48.58   \n",
       "\n",
       "   percent_eligible_for_medicaid  procedures_actual_costs  total_actual_costs  \\\n",
       "0                          25.23               9948252.37        1.454969e+08   \n",
       "1                          59.46                144239.83        4.999320e+06   \n",
       "2                          19.21                253170.41        3.700871e+06   \n",
       "3                            NaN                      NaN                 NaN   \n",
       "4                          51.68                123053.76        3.975036e+06   \n",
       "\n",
       "   actual_per_capita_costs  hospice_actual_costs  imaging_actual_costs  \\\n",
       "0                  6688.90            2385576.97            5326489.10   \n",
       "1                  7563.27                  0.00              24270.65   \n",
       "2                  5874.40                   NaN             108743.88   \n",
       "3                      NaN                   NaN                   NaN   \n",
       "4                 10271.41                   NaN              31771.02   \n",
       "\n",
       "   tests_actual_costs  dme_actual_costs  part_b_drugs_actual_costs  \\\n",
       "0          3409019.79        3449503.03                 4964305.75   \n",
       "1            17129.17          51971.34                        NaN   \n",
       "2            89983.38          82758.64                   93777.59   \n",
       "3                 NaN               NaN                        NaN   \n",
       "4            20146.42          23715.10                    5845.17   \n",
       "\n",
       "   ambulance_actual_costs  hospital_readmission_rate  \\\n",
       "0              1959708.67                     0.1639   \n",
       "1               604176.46                     0.1961   \n",
       "2               111272.17                     0.1538   \n",
       "3                     NaN                        NaN   \n",
       "4               156522.44                     0.1635   \n",
       "\n",
       "   emergency_department_visits  \n",
       "0                      13419.0  \n",
       "1                         17.0  \n",
       "2                        312.0  \n",
       "3                          NaN  \n",
       "4                         41.0  "
      ]
     },
     "execution_count": 139,
     "metadata": {},
     "output_type": "execute_result"
    }
   ],
   "source": [
    "mcare1 = df_medi[['state', 'county', 'year', 'average_age', 'percent_male', 'percent_female', \n",
    "        'percent_eligible_for_medicaid', 'procedures_actual_costs', \n",
    "       'total_actual_costs', 'actual_per_capita_costs', 'hospice_actual_costs', \n",
    "       'imaging_actual_costs', 'tests_actual_costs', 'dme_actual_costs', 'part_b_drugs_actual_costs', \n",
    "       'ambulance_actual_costs', 'hospital_readmission_rate', 'emergency_department_visits']]\n",
    "\n",
    "mcare1.head()"
   ]
  },
  {
   "cell_type": "code",
   "execution_count": 140,
   "metadata": {
    "scrolled": true
   },
   "outputs": [
    {
     "data": {
      "text/plain": [
       "state                               0\n",
       "county                              0\n",
       "year                                0\n",
       "average_age                        32\n",
       "percent_male                       48\n",
       "percent_female                     48\n",
       "percent_eligible_for_medicaid     209\n",
       "procedures_actual_costs            48\n",
       "total_actual_costs                 40\n",
       "actual_per_capita_costs            40\n",
       "hospice_actual_costs             1938\n",
       "imaging_actual_costs               48\n",
       "tests_actual_costs                 46\n",
       "dme_actual_costs                   50\n",
       "part_b_drugs_actual_costs          61\n",
       "ambulance_actual_costs            324\n",
       "hospital_readmission_rate         629\n",
       "emergency_department_visits        48\n",
       "dtype: int64"
      ]
     },
     "execution_count": 140,
     "metadata": {},
     "output_type": "execute_result"
    }
   ],
   "source": [
    "mcare1.isna().sum()"
   ]
  },
  {
   "cell_type": "code",
   "execution_count": 141,
   "metadata": {
    "scrolled": true
   },
   "outputs": [],
   "source": [
    "mcare1.iloc[:,3:] = mcare1.iloc[:,3:].apply(lambda x: x.fillna(x.mean()))"
   ]
  },
  {
   "cell_type": "code",
   "execution_count": 142,
   "metadata": {},
   "outputs": [
    {
     "data": {
      "text/plain": [
       "state                            0\n",
       "county                           0\n",
       "year                             0\n",
       "average_age                      0\n",
       "percent_male                     0\n",
       "percent_female                   0\n",
       "percent_eligible_for_medicaid    0\n",
       "procedures_actual_costs          0\n",
       "total_actual_costs               0\n",
       "actual_per_capita_costs          0\n",
       "hospice_actual_costs             0\n",
       "imaging_actual_costs             0\n",
       "tests_actual_costs               0\n",
       "dme_actual_costs                 0\n",
       "part_b_drugs_actual_costs        0\n",
       "ambulance_actual_costs           0\n",
       "hospital_readmission_rate        0\n",
       "emergency_department_visits      0\n",
       "dtype: int64"
      ]
     },
     "execution_count": 142,
     "metadata": {},
     "output_type": "execute_result"
    }
   ],
   "source": [
    "mcare1.isna().sum()"
   ]
  },
  {
   "cell_type": "code",
   "execution_count": 143,
   "metadata": {},
   "outputs": [
    {
     "data": {
      "text/plain": [
       "(25088, 18)"
      ]
     },
     "execution_count": 143,
     "metadata": {},
     "output_type": "execute_result"
    }
   ],
   "source": [
    "mcare1.shape"
   ]
  },
  {
   "cell_type": "code",
   "execution_count": 144,
   "metadata": {},
   "outputs": [
    {
     "name": "stdout",
     "output_type": "stream",
     "text": [
      "<class 'pandas.core.frame.DataFrame'>\n",
      "RangeIndex: 25088 entries, 0 to 25087\n",
      "Data columns (total 18 columns):\n",
      "state                            25088 non-null object\n",
      "county                           25088 non-null object\n",
      "year                             25088 non-null int64\n",
      "average_age                      25088 non-null float64\n",
      "percent_male                     25088 non-null float64\n",
      "percent_female                   25088 non-null float64\n",
      "percent_eligible_for_medicaid    25088 non-null float64\n",
      "procedures_actual_costs          25088 non-null float64\n",
      "total_actual_costs               25088 non-null float64\n",
      "actual_per_capita_costs          25088 non-null float64\n",
      "hospice_actual_costs             25088 non-null float64\n",
      "imaging_actual_costs             25088 non-null float64\n",
      "tests_actual_costs               25088 non-null float64\n",
      "dme_actual_costs                 25088 non-null float64\n",
      "part_b_drugs_actual_costs        25088 non-null float64\n",
      "ambulance_actual_costs           25088 non-null float64\n",
      "hospital_readmission_rate        25088 non-null float64\n",
      "emergency_department_visits      25088 non-null float64\n",
      "dtypes: float64(15), int64(1), object(2)\n",
      "memory usage: 3.4+ MB\n"
     ]
    }
   ],
   "source": [
    "mcare1.info()"
   ]
  },
  {
   "cell_type": "code",
   "execution_count": 145,
   "metadata": {},
   "outputs": [
    {
     "data": {
      "text/html": [
       "<div>\n",
       "<style scoped>\n",
       "    .dataframe tbody tr th:only-of-type {\n",
       "        vertical-align: middle;\n",
       "    }\n",
       "\n",
       "    .dataframe tbody tr th {\n",
       "        vertical-align: top;\n",
       "    }\n",
       "\n",
       "    .dataframe thead th {\n",
       "        text-align: right;\n",
       "    }\n",
       "</style>\n",
       "<table border=\"1\" class=\"dataframe\">\n",
       "  <thead>\n",
       "    <tr style=\"text-align: right;\">\n",
       "      <th></th>\n",
       "      <th>state</th>\n",
       "      <th>county</th>\n",
       "      <th>year</th>\n",
       "      <th>average_age</th>\n",
       "      <th>percent_male</th>\n",
       "      <th>percent_female</th>\n",
       "      <th>percent_eligible_for_medicaid</th>\n",
       "      <th>procedures_actual_costs</th>\n",
       "      <th>total_actual_costs</th>\n",
       "      <th>actual_per_capita_costs</th>\n",
       "      <th>hospice_actual_costs</th>\n",
       "      <th>imaging_actual_costs</th>\n",
       "      <th>tests_actual_costs</th>\n",
       "      <th>dme_actual_costs</th>\n",
       "      <th>part_b_drugs_actual_costs</th>\n",
       "      <th>ambulance_actual_costs</th>\n",
       "      <th>hospital_readmission_rate</th>\n",
       "      <th>emergency_department_visits</th>\n",
       "    </tr>\n",
       "  </thead>\n",
       "  <tbody>\n",
       "    <tr>\n",
       "      <th>0</th>\n",
       "      <td>AK</td>\n",
       "      <td>ANCHORAGE</td>\n",
       "      <td>2007</td>\n",
       "      <td>69.000000</td>\n",
       "      <td>46.710000</td>\n",
       "      <td>53.290000</td>\n",
       "      <td>25.230000</td>\n",
       "      <td>9.948252e+06</td>\n",
       "      <td>1.454969e+08</td>\n",
       "      <td>6688.90000</td>\n",
       "      <td>2.385577e+06</td>\n",
       "      <td>5.326489e+06</td>\n",
       "      <td>3.409020e+06</td>\n",
       "      <td>3.449503e+06</td>\n",
       "      <td>4.964306e+06</td>\n",
       "      <td>1.959709e+06</td>\n",
       "      <td>0.163900</td>\n",
       "      <td>13419.000000</td>\n",
       "    </tr>\n",
       "    <tr>\n",
       "      <th>1</th>\n",
       "      <td>AK</td>\n",
       "      <td>BETHEL</td>\n",
       "      <td>2007</td>\n",
       "      <td>71.000000</td>\n",
       "      <td>51.130000</td>\n",
       "      <td>48.870000</td>\n",
       "      <td>59.460000</td>\n",
       "      <td>1.442398e+05</td>\n",
       "      <td>4.999320e+06</td>\n",
       "      <td>7563.27000</td>\n",
       "      <td>0.000000e+00</td>\n",
       "      <td>2.427065e+04</td>\n",
       "      <td>1.712917e+04</td>\n",
       "      <td>5.197134e+04</td>\n",
       "      <td>3.183871e+06</td>\n",
       "      <td>6.041765e+05</td>\n",
       "      <td>0.196100</td>\n",
       "      <td>17.000000</td>\n",
       "    </tr>\n",
       "    <tr>\n",
       "      <th>2</th>\n",
       "      <td>AK</td>\n",
       "      <td>BRISTOL BAY</td>\n",
       "      <td>2007</td>\n",
       "      <td>68.000000</td>\n",
       "      <td>50.630000</td>\n",
       "      <td>49.370000</td>\n",
       "      <td>19.210000</td>\n",
       "      <td>2.531704e+05</td>\n",
       "      <td>3.700871e+06</td>\n",
       "      <td>5874.40000</td>\n",
       "      <td>3.287047e+06</td>\n",
       "      <td>1.087439e+05</td>\n",
       "      <td>8.998338e+04</td>\n",
       "      <td>8.275864e+04</td>\n",
       "      <td>9.377759e+04</td>\n",
       "      <td>1.112722e+05</td>\n",
       "      <td>0.153800</td>\n",
       "      <td>312.000000</td>\n",
       "    </tr>\n",
       "    <tr>\n",
       "      <th>3</th>\n",
       "      <td>AK</td>\n",
       "      <td>DENALI</td>\n",
       "      <td>2007</td>\n",
       "      <td>71.338163</td>\n",
       "      <td>45.758973</td>\n",
       "      <td>54.241135</td>\n",
       "      <td>21.255956</td>\n",
       "      <td>6.344861e+06</td>\n",
       "      <td>9.827689e+07</td>\n",
       "      <td>8344.81477</td>\n",
       "      <td>3.287047e+06</td>\n",
       "      <td>2.668152e+06</td>\n",
       "      <td>2.698459e+06</td>\n",
       "      <td>2.416958e+06</td>\n",
       "      <td>3.183871e+06</td>\n",
       "      <td>1.421522e+06</td>\n",
       "      <td>0.174855</td>\n",
       "      <td>6770.929832</td>\n",
       "    </tr>\n",
       "    <tr>\n",
       "      <th>4</th>\n",
       "      <td>AK</td>\n",
       "      <td>DILLINGHAM</td>\n",
       "      <td>2007</td>\n",
       "      <td>71.000000</td>\n",
       "      <td>51.420000</td>\n",
       "      <td>48.580000</td>\n",
       "      <td>51.680000</td>\n",
       "      <td>1.230538e+05</td>\n",
       "      <td>3.975036e+06</td>\n",
       "      <td>10271.41000</td>\n",
       "      <td>3.287047e+06</td>\n",
       "      <td>3.177102e+04</td>\n",
       "      <td>2.014642e+04</td>\n",
       "      <td>2.371510e+04</td>\n",
       "      <td>5.845170e+03</td>\n",
       "      <td>1.565224e+05</td>\n",
       "      <td>0.163500</td>\n",
       "      <td>41.000000</td>\n",
       "    </tr>\n",
       "  </tbody>\n",
       "</table>\n",
       "</div>"
      ],
      "text/plain": [
       "  state       county  year  average_age  percent_male  percent_female  \\\n",
       "0    AK    ANCHORAGE  2007    69.000000     46.710000       53.290000   \n",
       "1    AK       BETHEL  2007    71.000000     51.130000       48.870000   \n",
       "2    AK  BRISTOL BAY  2007    68.000000     50.630000       49.370000   \n",
       "3    AK       DENALI  2007    71.338163     45.758973       54.241135   \n",
       "4    AK   DILLINGHAM  2007    71.000000     51.420000       48.580000   \n",
       "\n",
       "   percent_eligible_for_medicaid  procedures_actual_costs  total_actual_costs  \\\n",
       "0                      25.230000             9.948252e+06        1.454969e+08   \n",
       "1                      59.460000             1.442398e+05        4.999320e+06   \n",
       "2                      19.210000             2.531704e+05        3.700871e+06   \n",
       "3                      21.255956             6.344861e+06        9.827689e+07   \n",
       "4                      51.680000             1.230538e+05        3.975036e+06   \n",
       "\n",
       "   actual_per_capita_costs  hospice_actual_costs  imaging_actual_costs  \\\n",
       "0               6688.90000          2.385577e+06          5.326489e+06   \n",
       "1               7563.27000          0.000000e+00          2.427065e+04   \n",
       "2               5874.40000          3.287047e+06          1.087439e+05   \n",
       "3               8344.81477          3.287047e+06          2.668152e+06   \n",
       "4              10271.41000          3.287047e+06          3.177102e+04   \n",
       "\n",
       "   tests_actual_costs  dme_actual_costs  part_b_drugs_actual_costs  \\\n",
       "0        3.409020e+06      3.449503e+06               4.964306e+06   \n",
       "1        1.712917e+04      5.197134e+04               3.183871e+06   \n",
       "2        8.998338e+04      8.275864e+04               9.377759e+04   \n",
       "3        2.698459e+06      2.416958e+06               3.183871e+06   \n",
       "4        2.014642e+04      2.371510e+04               5.845170e+03   \n",
       "\n",
       "   ambulance_actual_costs  hospital_readmission_rate  \\\n",
       "0            1.959709e+06                   0.163900   \n",
       "1            6.041765e+05                   0.196100   \n",
       "2            1.112722e+05                   0.153800   \n",
       "3            1.421522e+06                   0.174855   \n",
       "4            1.565224e+05                   0.163500   \n",
       "\n",
       "   emergency_department_visits  \n",
       "0                 13419.000000  \n",
       "1                    17.000000  \n",
       "2                   312.000000  \n",
       "3                  6770.929832  \n",
       "4                    41.000000  "
      ]
     },
     "execution_count": 145,
     "metadata": {},
     "output_type": "execute_result"
    }
   ],
   "source": [
    "mcare1.head()"
   ]
  },
  {
   "cell_type": "code",
   "execution_count": 146,
   "metadata": {},
   "outputs": [
    {
     "data": {
      "image/png": "[encoded data removed]",
      "text/plain": [
       "<Figure size 1008x1008 with 16 Axes>"
      ]
     },
     "metadata": {},
     "output_type": "display_data"
    }
   ],
   "source": [
    "mcare1.drop(['state','county'], axis = 1).hist(figsize = (14,14))\n",
    "plt.show()"
   ]
  },
  {
   "cell_type": "code",
   "execution_count": 147,
   "metadata": {},
   "outputs": [
    {
     "data": {
      "image/png": "[encoded data removed]",
      "text/plain": [
       "<Figure size 576x360 with 2 Axes>"
      ]
     },
     "metadata": {},
     "output_type": "display_data"
    }
   ],
   "source": [
    "plt.figure(figsize = (8,5))\n",
    "sns.heatmap(mcare1.corr())\n",
    "plt.show()"
   ]
  },
  {
   "cell_type": "code",
   "execution_count": 148,
   "metadata": {},
   "outputs": [
    {
     "data": {
      "image/png": "[encoded data removed]",
      "text/plain": [
       "<Figure size 1440x432 with 1 Axes>"
      ]
     },
     "metadata": {},
     "output_type": "display_data"
    }
   ],
   "source": [
    "plt.subplots(figsize=(20,6))\n",
    "sns.boxplot(x='state', y='total_actual_costs', data=mcare1)\n",
    "plt.ylabel('Total Actual Costs')\n",
    "plt.xlabel('State')\n",
    "plt.show()"
   ]
  },
  {
   "cell_type": "code",
   "execution_count": 149,
   "metadata": {},
   "outputs": [
    {
     "data": {
      "image/png": "[encoded data removed]",
      "text/plain": [
       "<Figure size 1440x432 with 1 Axes>"
      ]
     },
     "metadata": {},
     "output_type": "display_data"
    }
   ],
   "source": [
    "plt.subplots(figsize=(20,6))\n",
    "sns.boxplot(x='state', y='total_actual_costs', data=mcare1, showfliers = False)\n",
    "plt.ylabel('Total Actual Costs')\n",
    "plt.xlabel('State')\n",
    "plt.show()"
   ]
  },
  {
   "cell_type": "code",
   "execution_count": 150,
   "metadata": {},
   "outputs": [
    {
     "data": {
      "image/png": "[encoded data removed]",
      "text/plain": [
       "<Figure size 1440x432 with 1 Axes>"
      ]
     },
     "metadata": {},
     "output_type": "display_data"
    }
   ],
   "source": [
    "plt.subplots(figsize=(20,6))\n",
    "sns.boxplot(x='state', y='emergency_department_visits', data=mcare1, showfliers = False)\n",
    "plt.ylabel('Emergency Department Visits')\n",
    "plt.xlabel('State')\n",
    "plt.show()"
   ]
  },
  {
   "cell_type": "raw",
   "metadata": {},
   "source": [
    "There is a very high correlation between emergency department visits and total costs of care.  Investigation is needed into the reasons for emergency visits and there will be an implemenation into how the visits to the emergency room can be reduced."
   ]
  },
  {
   "cell_type": "code",
   "execution_count": 151,
   "metadata": {},
   "outputs": [
    {
     "data": {
      "image/png": "[encoded data removed]",
      "text/plain": [
       "<Figure size 1440x432 with 1 Axes>"
      ]
     },
     "metadata": {},
     "output_type": "display_data"
    }
   ],
   "source": [
    "plt.subplots(figsize=(20,6))\n",
    "sns.boxplot(x='average_age', y='total_actual_costs', data=mcare1, showfliers = False)\n",
    "plt.ylabel('Total Actual Costs')\n",
    "plt.xlabel('Average Age')\n",
    "plt.show()"
   ]
  },
  {
   "cell_type": "raw",
   "metadata": {},
   "source": [
    "There is a tend of increasing medicare spending by average age of 71 and then costs taper off."
   ]
  },
  {
   "cell_type": "code",
   "execution_count": 152,
   "metadata": {},
   "outputs": [
    {
     "data": {
      "image/png": "[encoded data removed]",
      "text/plain": [
       "<Figure size 1440x432 with 1 Axes>"
      ]
     },
     "metadata": {},
     "output_type": "display_data"
    }
   ],
   "source": [
    "plt.subplots(figsize=(20,6))\n",
    "sns.boxplot(x='year', y='total_actual_costs', data=mcare1, showfliers = False)\n",
    "plt.ylabel('Total Actual Costs')\n",
    "plt.xlabel('Year')\n",
    "plt.show()"
   ]
  },
  {
   "cell_type": "raw",
   "metadata": {},
   "source": [
    "Each year see an gradual increase in total average costs."
   ]
  },
  {
   "cell_type": "code",
   "execution_count": 153,
   "metadata": {},
   "outputs": [
    {
     "data": {
      "image/png": "[encoded data removed]",
      "text/plain": [
       "<Figure size 1440x432 with 1 Axes>"
      ]
     },
     "metadata": {},
     "output_type": "display_data"
    }
   ],
   "source": [
    "plt.subplots(figsize=(20,6))\n",
    "sns.boxplot(x='year', y='hospital_readmission_rate', data=mcare1, showfliers = False)\n",
    "plt.ylabel('Hospital Readmission Rate')\n",
    "plt.xlabel('Year')\n",
    "plt.show()"
   ]
  },
  {
   "cell_type": "raw",
   "metadata": {},
   "source": [
    "It would be interesting to see why the hospital readmission rate is decreasing each year."
   ]
  },
  {
   "cell_type": "code",
   "execution_count": 154,
   "metadata": {},
   "outputs": [
    {
     "data": {
      "image/png": "[encoded data removed]",
      "text/plain": [
       "<Figure size 1080x180 with 4 Axes>"
      ]
     },
     "metadata": {},
     "output_type": "display_data"
    }
   ],
   "source": [
    "list = ['year', 'average_age', 'percent_male','percent_female']\n",
    "sns.pairplot(mcare1, x_vars = list[0:6], y_vars = ['total_actual_costs'], aspect = 1.5, kind = 'reg', palette = 'hus1')\n",
    "plt.show()"
   ]
  },
  {
   "cell_type": "code",
   "execution_count": 155,
   "metadata": {},
   "outputs": [],
   "source": [
    "from sklearn.model_selection import train_test_split\n",
    "from sklearn import preprocessing\n",
    "from sklearn.metrics import classification_report\n",
    "from sklearn.metrics import confusion_matrix\n",
    "from sklearn.metrics import accuracy_score\n",
    "from sklearn.neighbors import KNeighborsClassifier "
   ]
  },
  {
   "cell_type": "code",
   "execution_count": 156,
   "metadata": {},
   "outputs": [],
   "source": [
    "X = mcare1.drop(['total_actual_costs','state','county'], axis = 1)\n",
    "y = mcare1.total_actual_costs"
   ]
  },
  {
   "cell_type": "code",
   "execution_count": 157,
   "metadata": {},
   "outputs": [
    {
     "data": {
      "image/png": "[encoded data removed]",
      "text/plain": [
       "<Figure size 432x288 with 1 Axes>"
      ]
     },
     "metadata": {},
     "output_type": "display_data"
    }
   ],
   "source": [
    "mcare1.total_actual_costs.hist(bins = 50)\n",
    "plt.show()"
   ]
  },
  {
   "cell_type": "raw",
   "metadata": {},
   "source": [
    "Due to the high on all the X variables we will to standardize the information using Standard Scaler"
   ]
  },
  {
   "cell_type": "code",
   "execution_count": 158,
   "metadata": {},
   "outputs": [],
   "source": [
    "y = np.log(y) # unskewing y"
   ]
  },
  {
   "cell_type": "code",
   "execution_count": 159,
   "metadata": {},
   "outputs": [
    {
     "data": {
      "text/plain": [
       "year                             5.250209e+00\n",
       "average_age                      4.199775e+00\n",
       "percent_male                     6.718947e+00\n",
       "percent_female                   6.718914e+00\n",
       "percent_eligible_for_medicaid    7.816645e+01\n",
       "procedures_actual_costs          3.410581e+14\n",
       "actual_per_capita_costs          2.000356e+06\n",
       "hospice_actual_costs             6.173138e+13\n",
       "imaging_actual_costs             7.216410e+13\n",
       "tests_actual_costs               7.183799e+13\n",
       "dme_actual_costs                 3.056948e+13\n",
       "part_b_drugs_actual_costs        7.497305e+13\n",
       "ambulance_actual_costs           1.673689e+13\n",
       "hospital_readmission_rate        8.893783e-04\n",
       "emergency_department_visits      2.319630e+08\n",
       "dtype: float64"
      ]
     },
     "execution_count": 159,
     "metadata": {},
     "output_type": "execute_result"
    }
   ],
   "source": [
    "X.var()"
   ]
  },
  {
   "cell_type": "code",
   "execution_count": 160,
   "metadata": {
    "scrolled": true
   },
   "outputs": [],
   "source": [
    "from sklearn.preprocessing import StandardScaler\n",
    "scaler = StandardScaler()\n",
    "X.iloc[:,1:] = scaler.fit_transform(X.iloc[:,1:])"
   ]
  },
  {
   "cell_type": "code",
   "execution_count": 161,
   "metadata": {},
   "outputs": [],
   "source": [
    "dum = pd.get_dummies(X.year)\n",
    "X = pd.concat([X, dum], axis = 1)\n",
    "X = X.drop('year', axis = 1)"
   ]
  },
  {
   "cell_type": "code",
   "execution_count": 162,
   "metadata": {},
   "outputs": [],
   "source": [
    "X_train, X_test, y_train, y_test = train_test_split(X, y, test_size = 0.2, random_state = 1)"
   ]
  },
  {
   "cell_type": "code",
   "execution_count": 163,
   "metadata": {},
   "outputs": [
    {
     "data": {
      "image/png": "[encoded data removed]",
      "text/plain": [
       "<Figure size 432x288 with 1 Axes>"
      ]
     },
     "metadata": {},
     "output_type": "display_data"
    }
   ],
   "source": [
    "y.hist(bins = 50)\n",
    "plt.show()"
   ]
  },
  {
   "cell_type": "raw",
   "metadata": {},
   "source": [
    "We now see that the variance has been reduced to 1 as we desired."
   ]
  },
  {
   "cell_type": "raw",
   "metadata": {},
   "source": [
    "We are now going to use OLS (ordinary least squares)"
   ]
  },
  {
   "cell_type": "code",
   "execution_count": 164,
   "metadata": {},
   "outputs": [],
   "source": [
    "import pandas as pd\n",
    "import numpy as np\n",
    "\n",
    "import statsmodels.api as sm\n",
    "import scipy.stats as scs\n",
    "import statistics\n",
    "import math\n",
    "from statsmodels.stats.outliers_influence import variance_inflation_factor\n",
    "\n",
    "import matplotlib\n",
    "import matplotlib.pyplot as plt\n",
    "%matplotlib inline\n",
    "from pandas.plotting import scatter_matrix\n",
    "from sklearn.linear_model import LogisticRegression\n",
    "from sklearn.metrics import confusion_matrix, roc_auc_score, roc_curve"
   ]
  },
  {
   "cell_type": "code",
   "execution_count": 165,
   "metadata": {
    "scrolled": true
   },
   "outputs": [
    {
     "data": {
      "text/html": [
       "<table class=\"simpletable\">\n",
       "<caption>OLS Regression Results</caption>\n",
       "<tr>\n",
       "  <th>Dep. Variable:</th>    <td>total_actual_costs</td> <th>  R-squared:         </th> <td>   0.619</td> \n",
       "</tr>\n",
       "<tr>\n",
       "  <th>Model:</th>                    <td>OLS</td>        <th>  Adj. R-squared:    </th> <td>   0.619</td> \n",
       "</tr>\n",
       "<tr>\n",
       "  <th>Method:</th>              <td>Least Squares</td>   <th>  F-statistic:       </th> <td>   1552.</td> \n",
       "</tr>\n",
       "<tr>\n",
       "  <th>Date:</th>              <td>Mon, 14 Jan 2019</td>  <th>  Prob (F-statistic):</th>  <td>  0.00</td>  \n",
       "</tr>\n",
       "<tr>\n",
       "  <th>Time:</th>                  <td>14:15:00</td>      <th>  Log-Likelihood:    </th> <td> -25018.</td> \n",
       "</tr>\n",
       "<tr>\n",
       "  <th>No. Observations:</th>       <td> 20070</td>       <th>  AIC:               </th> <td>5.008e+04</td>\n",
       "</tr>\n",
       "<tr>\n",
       "  <th>Df Residuals:</th>           <td> 20048</td>       <th>  BIC:               </th> <td>5.025e+04</td>\n",
       "</tr>\n",
       "<tr>\n",
       "  <th>Df Model:</th>               <td>    21</td>       <th>                     </th>     <td> </td>    \n",
       "</tr>\n",
       "<tr>\n",
       "  <th>Covariance Type:</th>       <td>nonrobust</td>     <th>                     </th>     <td> </td>    \n",
       "</tr>\n",
       "</table>\n",
       "<table class=\"simpletable\">\n",
       "<tr>\n",
       "                <td></td>                   <th>coef</th>     <th>std err</th>      <th>t</th>      <th>P>|t|</th>  <th>[0.025</th>    <th>0.975]</th>  \n",
       "</tr>\n",
       "<tr>\n",
       "  <th>average_age</th>                   <td>   -0.6729</td> <td>    0.009</td> <td>  -75.548</td> <td> 0.000</td> <td>   -0.690</td> <td>   -0.655</td>\n",
       "</tr>\n",
       "<tr>\n",
       "  <th>percent_male</th>                  <td>   -9.3487</td> <td>   15.293</td> <td>   -0.611</td> <td> 0.541</td> <td>  -39.325</td> <td>   20.627</td>\n",
       "</tr>\n",
       "<tr>\n",
       "  <th>percent_female</th>                <td>   -8.9430</td> <td>   15.293</td> <td>   -0.585</td> <td> 0.559</td> <td>  -38.919</td> <td>   21.033</td>\n",
       "</tr>\n",
       "<tr>\n",
       "  <th>percent_eligible_for_medicaid</th> <td>   -0.3971</td> <td>    0.009</td> <td>  -46.515</td> <td> 0.000</td> <td>   -0.414</td> <td>   -0.380</td>\n",
       "</tr>\n",
       "<tr>\n",
       "  <th>procedures_actual_costs</th>       <td>   -0.1249</td> <td>    0.062</td> <td>   -2.004</td> <td> 0.045</td> <td>   -0.247</td> <td>   -0.003</td>\n",
       "</tr>\n",
       "<tr>\n",
       "  <th>actual_per_capita_costs</th>       <td>    0.1873</td> <td>    0.008</td> <td>   23.990</td> <td> 0.000</td> <td>    0.172</td> <td>    0.203</td>\n",
       "</tr>\n",
       "<tr>\n",
       "  <th>hospice_actual_costs</th>          <td>   -0.2480</td> <td>    0.017</td> <td>  -14.626</td> <td> 0.000</td> <td>   -0.281</td> <td>   -0.215</td>\n",
       "</tr>\n",
       "<tr>\n",
       "  <th>imaging_actual_costs</th>          <td>   -0.0952</td> <td>    0.042</td> <td>   -2.266</td> <td> 0.023</td> <td>   -0.178</td> <td>   -0.013</td>\n",
       "</tr>\n",
       "<tr>\n",
       "  <th>tests_actual_costs</th>            <td>    0.0735</td> <td>    0.046</td> <td>    1.605</td> <td> 0.109</td> <td>   -0.016</td> <td>    0.163</td>\n",
       "</tr>\n",
       "<tr>\n",
       "  <th>dme_actual_costs</th>              <td>    0.2012</td> <td>    0.022</td> <td>    9.332</td> <td> 0.000</td> <td>    0.159</td> <td>    0.243</td>\n",
       "</tr>\n",
       "<tr>\n",
       "  <th>part_b_drugs_actual_costs</th>     <td>    0.2261</td> <td>    0.026</td> <td>    8.774</td> <td> 0.000</td> <td>    0.176</td> <td>    0.277</td>\n",
       "</tr>\n",
       "<tr>\n",
       "  <th>ambulance_actual_costs</th>        <td>   -0.4719</td> <td>    0.015</td> <td>  -30.478</td> <td> 0.000</td> <td>   -0.502</td> <td>   -0.442</td>\n",
       "</tr>\n",
       "<tr>\n",
       "  <th>hospital_readmission_rate</th>     <td>   -0.0487</td> <td>    0.007</td> <td>   -6.628</td> <td> 0.000</td> <td>   -0.063</td> <td>   -0.034</td>\n",
       "</tr>\n",
       "<tr>\n",
       "  <th>emergency_department_visits</th>   <td>    1.1365</td> <td>    0.029</td> <td>   39.454</td> <td> 0.000</td> <td>    1.080</td> <td>    1.193</td>\n",
       "</tr>\n",
       "<tr>\n",
       "  <th>2007</th>                          <td>   17.3442</td> <td>    0.018</td> <td>  954.457</td> <td> 0.000</td> <td>   17.309</td> <td>   17.380</td>\n",
       "</tr>\n",
       "<tr>\n",
       "  <th>2008</th>                          <td>   17.3344</td> <td>    0.017</td> <td>  995.869</td> <td> 0.000</td> <td>   17.300</td> <td>   17.368</td>\n",
       "</tr>\n",
       "<tr>\n",
       "  <th>2009</th>                          <td>   17.3624</td> <td>    0.017</td> <td> 1019.769</td> <td> 0.000</td> <td>   17.329</td> <td>   17.396</td>\n",
       "</tr>\n",
       "<tr>\n",
       "  <th>2010</th>                          <td>   17.3467</td> <td>    0.017</td> <td> 1037.936</td> <td> 0.000</td> <td>   17.314</td> <td>   17.379</td>\n",
       "</tr>\n",
       "<tr>\n",
       "  <th>2011</th>                          <td>   17.3550</td> <td>    0.017</td> <td> 1025.905</td> <td> 0.000</td> <td>   17.322</td> <td>   17.388</td>\n",
       "</tr>\n",
       "<tr>\n",
       "  <th>2012</th>                          <td>   17.3289</td> <td>    0.017</td> <td> 1022.777</td> <td> 0.000</td> <td>   17.296</td> <td>   17.362</td>\n",
       "</tr>\n",
       "<tr>\n",
       "  <th>2013</th>                          <td>   17.3333</td> <td>    0.017</td> <td> 1004.537</td> <td> 0.000</td> <td>   17.300</td> <td>   17.367</td>\n",
       "</tr>\n",
       "<tr>\n",
       "  <th>2014</th>                          <td>   17.3638</td> <td>    0.018</td> <td>  980.544</td> <td> 0.000</td> <td>   17.329</td> <td>   17.399</td>\n",
       "</tr>\n",
       "</table>\n",
       "<table class=\"simpletable\">\n",
       "<tr>\n",
       "  <th>Omnibus:</th>       <td>11524.214</td> <th>  Durbin-Watson:     </th>  <td>   2.011</td> \n",
       "</tr>\n",
       "<tr>\n",
       "  <th>Prob(Omnibus):</th>  <td> 0.000</td>   <th>  Jarque-Bera (JB):  </th> <td>608899.840</td>\n",
       "</tr>\n",
       "<tr>\n",
       "  <th>Skew:</th>           <td>-2.043</td>   <th>  Prob(JB):          </th>  <td>    0.00</td> \n",
       "</tr>\n",
       "<tr>\n",
       "  <th>Kurtosis:</th>       <td>29.673</td>   <th>  Cond. No.          </th>  <td>1.00e+04</td> \n",
       "</tr>\n",
       "</table><br/><br/>Warnings:<br/>[1] Standard Errors assume that the covariance matrix of the errors is correctly specified.<br/>[2] The condition number is large,  1e+04. This might indicate that there are<br/>strong multicollinearity or other numerical problems."
      ],
      "text/plain": [
       "<class 'statsmodels.iolib.summary.Summary'>\n",
       "\"\"\"\n",
       "                            OLS Regression Results                            \n",
       "==============================================================================\n",
       "Dep. Variable:     total_actual_costs   R-squared:                       0.619\n",
       "Model:                            OLS   Adj. R-squared:                  0.619\n",
       "Method:                 Least Squares   F-statistic:                     1552.\n",
       "Date:                Mon, 14 Jan 2019   Prob (F-statistic):               0.00\n",
       "Time:                        14:15:00   Log-Likelihood:                -25018.\n",
       "No. Observations:               20070   AIC:                         5.008e+04\n",
       "Df Residuals:                   20048   BIC:                         5.025e+04\n",
       "Df Model:                          21                                         \n",
       "Covariance Type:            nonrobust                                         \n",
       "=================================================================================================\n",
       "                                    coef    std err          t      P>|t|      [0.025      0.975]\n",
       "-------------------------------------------------------------------------------------------------\n",
       "average_age                      -0.6729      0.009    -75.548      0.000      -0.690      -0.655\n",
       "percent_male                     -9.3487     15.293     -0.611      0.541     -39.325      20.627\n",
       "percent_female                   -8.9430     15.293     -0.585      0.559     -38.919      21.033\n",
       "percent_eligible_for_medicaid    -0.3971      0.009    -46.515      0.000      -0.414      -0.380\n",
       "procedures_actual_costs          -0.1249      0.062     -2.004      0.045      -0.247      -0.003\n",
       "actual_per_capita_costs           0.1873      0.008     23.990      0.000       0.172       0.203\n",
       "hospice_actual_costs             -0.2480      0.017    -14.626      0.000      -0.281      -0.215\n",
       "imaging_actual_costs             -0.0952      0.042     -2.266      0.023      -0.178      -0.013\n",
       "tests_actual_costs                0.0735      0.046      1.605      0.109      -0.016       0.163\n",
       "dme_actual_costs                  0.2012      0.022      9.332      0.000       0.159       0.243\n",
       "part_b_drugs_actual_costs         0.2261      0.026      8.774      0.000       0.176       0.277\n",
       "ambulance_actual_costs           -0.4719      0.015    -30.478      0.000      -0.502      -0.442\n",
       "hospital_readmission_rate        -0.0487      0.007     -6.628      0.000      -0.063      -0.034\n",
       "emergency_department_visits       1.1365      0.029     39.454      0.000       1.080       1.193\n",
       "2007                             17.3442      0.018    954.457      0.000      17.309      17.380\n",
       "2008                             17.3344      0.017    995.869      0.000      17.300      17.368\n",
       "2009                             17.3624      0.017   1019.769      0.000      17.329      17.396\n",
       "2010                             17.3467      0.017   1037.936      0.000      17.314      17.379\n",
       "2011                             17.3550      0.017   1025.905      0.000      17.322      17.388\n",
       "2012                             17.3289      0.017   1022.777      0.000      17.296      17.362\n",
       "2013                             17.3333      0.017   1004.537      0.000      17.300      17.367\n",
       "2014                             17.3638      0.018    980.544      0.000      17.329      17.399\n",
       "==============================================================================\n",
       "Omnibus:                    11524.214   Durbin-Watson:                   2.011\n",
       "Prob(Omnibus):                  0.000   Jarque-Bera (JB):           608899.840\n",
       "Skew:                          -2.043   Prob(JB):                         0.00\n",
       "Kurtosis:                      29.673   Cond. No.                     1.00e+04\n",
       "==============================================================================\n",
       "\n",
       "Warnings:\n",
       "[1] Standard Errors assume that the covariance matrix of the errors is correctly specified.\n",
       "[2] The condition number is large,  1e+04. This might indicate that there are\n",
       "strong multicollinearity or other numerical problems.\n",
       "\"\"\""
      ]
     },
     "execution_count": 165,
     "metadata": {},
     "output_type": "execute_result"
    }
   ],
   "source": [
    "simple_model = sm.OLS(y_train, X_train)\n",
    "simple_results = simple_model.fit()\n",
    "simple_results.summary()"
   ]
  },
  {
   "cell_type": "code",
   "execution_count": 212,
   "metadata": {},
   "outputs": [
    {
     "name": "stdout",
     "output_type": "stream",
     "text": [
      "R2: 0.619174188604414\n"
     ]
    }
   ],
   "source": [
    "score_ols = simple_results.rsquared\n",
    "print('R2:',score_ols)"
   ]
  },
  {
   "cell_type": "raw",
   "metadata": {},
   "source": [
    "Now we will use Linear Regression"
   ]
  },
  {
   "cell_type": "code",
   "execution_count": 213,
   "metadata": {},
   "outputs": [],
   "source": [
    "from sklearn.metrics import mean_squared_error"
   ]
  },
  {
   "cell_type": "code",
   "execution_count": 239,
   "metadata": {},
   "outputs": [
    {
     "name": "stdout",
     "output_type": "stream",
     "text": [
      "MSE: 0.6932408300768307\n",
      "R2: 0.6249654769613979\n"
     ]
    }
   ],
   "source": [
    "from sklearn.linear_model import LinearRegression\n",
    "model = LinearRegression().fit(X_train, y_train)\n",
    "y_pred_lr = model.predict(X_test)\n",
    "score_lr = model.score(X_test, y_test)\n",
    "print('MSE:',mean_squared_error(y_pred_lr, y_test))\n",
    "MSE_lr = mean_squared_error(y_pred_lr, y_test)\n",
    "print('R2:',score_lr)"
   ]
  },
  {
   "cell_type": "raw",
   "metadata": {},
   "source": [
    "Next model will be Decision Tree"
   ]
  },
  {
   "cell_type": "code",
   "execution_count": 215,
   "metadata": {},
   "outputs": [],
   "source": [
    "from sklearn.datasets import load_boston\n",
    "from sklearn.model_selection import cross_val_score\n",
    "from sklearn.tree import DecisionTreeRegressor\n",
    "regressor = DecisionTreeRegressor(max_depth = 5, random_state = 1)"
   ]
  },
  {
   "cell_type": "code",
   "execution_count": 216,
   "metadata": {},
   "outputs": [
    {
     "name": "stdout",
     "output_type": "stream",
     "text": [
      "MSE: 0.03886079301981941\n",
      "R2: 0.9789768023711548\n"
     ]
    }
   ],
   "source": [
    "model = regressor.fit(X_train, y_train)\n",
    "y_pred_dt = model.predict(X_test)\n",
    "score_dt = model.score(X_test, y_test)\n",
    "print('MSE:',mean_squared_error(y_pred_dt, y_test))\n",
    "MSE_dt = mean_squared_error(y_pred_dt, y_test)\n",
    "print('R2:', score_dt)"
   ]
  },
  {
   "cell_type": "raw",
   "metadata": {},
   "source": [
    "This model we will use Random Forest"
   ]
  },
  {
   "cell_type": "code",
   "execution_count": 217,
   "metadata": {},
   "outputs": [],
   "source": [
    "from sklearn.ensemble import RandomForestRegressor\n",
    "from sklearn.datasets import make_regression"
   ]
  },
  {
   "cell_type": "code",
   "execution_count": 218,
   "metadata": {},
   "outputs": [
    {
     "data": {
      "text/html": [
       "<div>\n",
       "<style scoped>\n",
       "    .dataframe tbody tr th:only-of-type {\n",
       "        vertical-align: middle;\n",
       "    }\n",
       "\n",
       "    .dataframe tbody tr th {\n",
       "        vertical-align: top;\n",
       "    }\n",
       "\n",
       "    .dataframe thead th {\n",
       "        text-align: right;\n",
       "    }\n",
       "</style>\n",
       "<table border=\"1\" class=\"dataframe\">\n",
       "  <thead>\n",
       "    <tr style=\"text-align: right;\">\n",
       "      <th></th>\n",
       "      <th>0</th>\n",
       "    </tr>\n",
       "  </thead>\n",
       "  <tbody>\n",
       "    <tr>\n",
       "      <th>0</th>\n",
       "      <td>0.630905</td>\n",
       "    </tr>\n",
       "    <tr>\n",
       "      <th>1</th>\n",
       "      <td>0.886252</td>\n",
       "    </tr>\n",
       "    <tr>\n",
       "      <th>2</th>\n",
       "      <td>0.964940</td>\n",
       "    </tr>\n",
       "    <tr>\n",
       "      <th>3</th>\n",
       "      <td>0.982580</td>\n",
       "    </tr>\n",
       "    <tr>\n",
       "      <th>4</th>\n",
       "      <td>0.986941</td>\n",
       "    </tr>\n",
       "    <tr>\n",
       "      <th>5</th>\n",
       "      <td>0.988880</td>\n",
       "    </tr>\n",
       "    <tr>\n",
       "      <th>6</th>\n",
       "      <td>0.991414</td>\n",
       "    </tr>\n",
       "    <tr>\n",
       "      <th>7</th>\n",
       "      <td>0.992707</td>\n",
       "    </tr>\n",
       "    <tr>\n",
       "      <th>8</th>\n",
       "      <td>0.993895</td>\n",
       "    </tr>\n",
       "  </tbody>\n",
       "</table>\n",
       "</div>"
      ],
      "text/plain": [
       "          0\n",
       "0  0.630905\n",
       "1  0.886252\n",
       "2  0.964940\n",
       "3  0.982580\n",
       "4  0.986941\n",
       "5  0.988880\n",
       "6  0.991414\n",
       "7  0.992707\n",
       "8  0.993895"
      ]
     },
     "execution_count": 218,
     "metadata": {},
     "output_type": "execute_result"
    }
   ],
   "source": [
    "list = []\n",
    "for i in range(1,10): \n",
    "    regr = RandomForestRegressor(n_estimators = 15, max_depth=i,\n",
    "                             random_state=1)\n",
    "    model = regr.fit(X_train, y_train)\n",
    "    y_pred = model.predict(X_test)\n",
    "    list.append(model.score(X_test, y_test))\n",
    "pd.DataFrame(list)"
   ]
  },
  {
   "cell_type": "code",
   "execution_count": 219,
   "metadata": {},
   "outputs": [],
   "source": [
    "list = []\n",
    "for i in range(1,15): \n",
    "    regr = RandomForestRegressor(n_estimators=i, max_depth=6,\n",
    "                             random_state=1)\n",
    "    model = regr.fit(X_train, y_train)\n",
    "    y_pred = model.predict(X_test)\n",
    "    list.append(model.score(X_test, y_test))"
   ]
  },
  {
   "cell_type": "code",
   "execution_count": 220,
   "metadata": {},
   "outputs": [
    {
     "data": {
      "text/html": [
       "<div>\n",
       "<style scoped>\n",
       "    .dataframe tbody tr th:only-of-type {\n",
       "        vertical-align: middle;\n",
       "    }\n",
       "\n",
       "    .dataframe tbody tr th {\n",
       "        vertical-align: top;\n",
       "    }\n",
       "\n",
       "    .dataframe thead th {\n",
       "        text-align: right;\n",
       "    }\n",
       "</style>\n",
       "<table border=\"1\" class=\"dataframe\">\n",
       "  <thead>\n",
       "    <tr style=\"text-align: right;\">\n",
       "      <th></th>\n",
       "      <th>0</th>\n",
       "    </tr>\n",
       "  </thead>\n",
       "  <tbody>\n",
       "    <tr>\n",
       "      <th>0</th>\n",
       "      <td>0.986740</td>\n",
       "    </tr>\n",
       "    <tr>\n",
       "      <th>1</th>\n",
       "      <td>0.988729</td>\n",
       "    </tr>\n",
       "    <tr>\n",
       "      <th>2</th>\n",
       "      <td>0.989493</td>\n",
       "    </tr>\n",
       "    <tr>\n",
       "      <th>3</th>\n",
       "      <td>0.989645</td>\n",
       "    </tr>\n",
       "    <tr>\n",
       "      <th>4</th>\n",
       "      <td>0.989828</td>\n",
       "    </tr>\n",
       "    <tr>\n",
       "      <th>5</th>\n",
       "      <td>0.989693</td>\n",
       "    </tr>\n",
       "    <tr>\n",
       "      <th>6</th>\n",
       "      <td>0.989286</td>\n",
       "    </tr>\n",
       "    <tr>\n",
       "      <th>7</th>\n",
       "      <td>0.988936</td>\n",
       "    </tr>\n",
       "    <tr>\n",
       "      <th>8</th>\n",
       "      <td>0.988942</td>\n",
       "    </tr>\n",
       "    <tr>\n",
       "      <th>9</th>\n",
       "      <td>0.988886</td>\n",
       "    </tr>\n",
       "    <tr>\n",
       "      <th>10</th>\n",
       "      <td>0.989153</td>\n",
       "    </tr>\n",
       "    <tr>\n",
       "      <th>11</th>\n",
       "      <td>0.988887</td>\n",
       "    </tr>\n",
       "    <tr>\n",
       "      <th>12</th>\n",
       "      <td>0.988959</td>\n",
       "    </tr>\n",
       "    <tr>\n",
       "      <th>13</th>\n",
       "      <td>0.988943</td>\n",
       "    </tr>\n",
       "  </tbody>\n",
       "</table>\n",
       "</div>"
      ],
      "text/plain": [
       "           0\n",
       "0   0.986740\n",
       "1   0.988729\n",
       "2   0.989493\n",
       "3   0.989645\n",
       "4   0.989828\n",
       "5   0.989693\n",
       "6   0.989286\n",
       "7   0.988936\n",
       "8   0.988942\n",
       "9   0.988886\n",
       "10  0.989153\n",
       "11  0.988887\n",
       "12  0.988959\n",
       "13  0.988943"
      ]
     },
     "execution_count": 220,
     "metadata": {},
     "output_type": "execute_result"
    }
   ],
   "source": [
    "list = pd.DataFrame(list)\n",
    "list"
   ]
  },
  {
   "cell_type": "code",
   "execution_count": 222,
   "metadata": {},
   "outputs": [
    {
     "name": "stdout",
     "output_type": "stream",
     "text": [
      "MSE: 0.018802348718981846\n",
      "R2: 0.9898281670988028\n"
     ]
    }
   ],
   "source": [
    "regr = RandomForestRegressor(n_estimators= 5, max_depth=6,\n",
    "                             random_state=1)\n",
    "model = regr.fit(X_train, y_train)\n",
    "y_pred_ranf = model.predict(X_test)\n",
    "score_ranf = model.score(X_test, y_test)\n",
    "print('MSE:',mean_squared_error(y_pred_ranf, y_test))\n",
    "MSE_ranf = mean_squared_error(y_pred_ranf, y_test)\n",
    "print('R2:',score_ranf)"
   ]
  },
  {
   "cell_type": "raw",
   "metadata": {},
   "source": [
    "Next model to test will be XgBoost"
   ]
  },
  {
   "cell_type": "code",
   "execution_count": 223,
   "metadata": {},
   "outputs": [],
   "source": [
    "import xgboost\n",
    "xgb = xgboost.XGBRegressor(n_estimators=79, learning_rate=0.08, gamma=0, subsample=0.75,\n",
    "                           colsample_bytree=1, max_depth=7)"
   ]
  },
  {
   "cell_type": "code",
   "execution_count": 224,
   "metadata": {},
   "outputs": [
    {
     "data": {
      "text/plain": [
       "XGBRegressor(base_score=0.5, booster='gbtree', colsample_bylevel=1,\n",
       "       colsample_bytree=1, gamma=0, learning_rate=0.08, max_delta_step=0,\n",
       "       max_depth=7, min_child_weight=1, missing=None, n_estimators=79,\n",
       "       n_jobs=1, nthread=None, objective='reg:linear', random_state=0,\n",
       "       reg_alpha=0, reg_lambda=1, scale_pos_weight=1, seed=None,\n",
       "       silent=True, subsample=0.75)"
      ]
     },
     "execution_count": 224,
     "metadata": {},
     "output_type": "execute_result"
    }
   ],
   "source": [
    "xgb.fit(X_train,y_train)"
   ]
  },
  {
   "cell_type": "code",
   "execution_count": 225,
   "metadata": {},
   "outputs": [
    {
     "name": "stdout",
     "output_type": "stream",
     "text": [
      "MSE: 0.009393354855568598\n",
      "R2: 0.9949183138021457\n"
     ]
    }
   ],
   "source": [
    "y_pred_xgb = xgb.predict(X_test)\n",
    "score_xgb = xgb.score(X_test, y_test)\n",
    "print('MSE:',mean_squared_error(y_pred_xgb, y_test))\n",
    "MSE_xgb = mean_squared_error(y_pred_xgb, y_test)\n",
    "print('R2:', score_xgb )"
   ]
  },
  {
   "cell_type": "code",
   "execution_count": 226,
   "metadata": {},
   "outputs": [],
   "source": [
    "from sklearn.ensemble import GradientBoostingRegressor"
   ]
  },
  {
   "cell_type": "code",
   "execution_count": 227,
   "metadata": {},
   "outputs": [],
   "source": [
    "gbr = GradientBoostingRegressor(n_estimators=79, random_state=1)"
   ]
  },
  {
   "cell_type": "code",
   "execution_count": 228,
   "metadata": {},
   "outputs": [
    {
     "data": {
      "text/plain": [
       "GradientBoostingRegressor(alpha=0.9, criterion='friedman_mse', init=None,\n",
       "             learning_rate=0.1, loss='ls', max_depth=3, max_features=None,\n",
       "             max_leaf_nodes=None, min_impurity_decrease=0.0,\n",
       "             min_impurity_split=None, min_samples_leaf=1,\n",
       "             min_samples_split=2, min_weight_fraction_leaf=0.0,\n",
       "             n_estimators=79, n_iter_no_change=None, presort='auto',\n",
       "             random_state=1, subsample=1.0, tol=0.0001,\n",
       "             validation_fraction=0.1, verbose=0, warm_start=False)"
      ]
     },
     "execution_count": 228,
     "metadata": {},
     "output_type": "execute_result"
    }
   ],
   "source": [
    "gbr.fit(X_train,y_train)"
   ]
  },
  {
   "cell_type": "code",
   "execution_count": 229,
   "metadata": {},
   "outputs": [
    {
     "name": "stdout",
     "output_type": "stream",
     "text": [
      "MSE: 0.012442671105297587\n",
      "R2: 0.993268672269658\n"
     ]
    },
    {
     "data": {
      "text/plain": [
       "0.993268672269658"
      ]
     },
     "execution_count": 229,
     "metadata": {},
     "output_type": "execute_result"
    }
   ],
   "source": [
    "y_pred_gbr = gbr.predict(X_test)\n",
    "score_gbr = gbr.score(X_test, y_test)\n",
    "print('MSE:',mean_squared_error(y_pred_gbr, y_test))\n",
    "print('R2:',score_gbr)\n",
    "MSE_gbr = mean_squared_error(y_pred_gbr, y_test)\n",
    "score_gbr"
   ]
  },
  {
   "cell_type": "raw",
   "metadata": {},
   "source": [
    "Time for Google H2O!"
   ]
  },
  {
   "cell_type": "code",
   "execution_count": 54,
   "metadata": {
    "scrolled": true
   },
   "outputs": [
    {
     "name": "stdout",
     "output_type": "stream",
     "text": [
      "Checking whether there is an H2O instance running at http://localhost:54321. connected.\n"
     ]
    },
    {
     "data": {
      "text/html": [
       "<div style=\"overflow:auto\"><table style=\"width:50%\"><tr><td>H2O cluster uptime:</td>\n",
       "<td>1 hour 44 mins</td></tr>\n",
       "<tr><td>H2O cluster timezone:</td>\n",
       "<td>America/New_York</td></tr>\n",
       "<tr><td>H2O data parsing timezone:</td>\n",
       "<td>UTC</td></tr>\n",
       "<tr><td>H2O cluster version:</td>\n",
       "<td>3.22.0.2</td></tr>\n",
       "<tr><td>H2O cluster version age:</td>\n",
       "<td>1 month and 23 days </td></tr>\n",
       "<tr><td>H2O cluster name:</td>\n",
       "<td>H2O_from_python_m_vwqcyl</td></tr>\n",
       "<tr><td>H2O cluster total nodes:</td>\n",
       "<td>1</td></tr>\n",
       "<tr><td>H2O cluster free memory:</td>\n",
       "<td>1.368 Gb</td></tr>\n",
       "<tr><td>H2O cluster total cores:</td>\n",
       "<td>4</td></tr>\n",
       "<tr><td>H2O cluster allowed cores:</td>\n",
       "<td>4</td></tr>\n",
       "<tr><td>H2O cluster status:</td>\n",
       "<td>locked, healthy</td></tr>\n",
       "<tr><td>H2O connection url:</td>\n",
       "<td>http://localhost:54321</td></tr>\n",
       "<tr><td>H2O connection proxy:</td>\n",
       "<td>None</td></tr>\n",
       "<tr><td>H2O internal security:</td>\n",
       "<td>False</td></tr>\n",
       "<tr><td>H2O API Extensions:</td>\n",
       "<td>XGBoost, Algos, AutoML, Core V3, Core V4</td></tr>\n",
       "<tr><td>Python version:</td>\n",
       "<td>3.6.5 final</td></tr></table></div>"
      ],
      "text/plain": [
       "--------------------------  ----------------------------------------\n",
       "H2O cluster uptime:         1 hour 44 mins\n",
       "H2O cluster timezone:       America/New_York\n",
       "H2O data parsing timezone:  UTC\n",
       "H2O cluster version:        3.22.0.2\n",
       "H2O cluster version age:    1 month and 23 days\n",
       "H2O cluster name:           H2O_from_python_m_vwqcyl\n",
       "H2O cluster total nodes:    1\n",
       "H2O cluster free memory:    1.368 Gb\n",
       "H2O cluster total cores:    4\n",
       "H2O cluster allowed cores:  4\n",
       "H2O cluster status:         locked, healthy\n",
       "H2O connection url:         http://localhost:54321\n",
       "H2O connection proxy:\n",
       "H2O internal security:      False\n",
       "H2O API Extensions:         XGBoost, Algos, AutoML, Core V3, Core V4\n",
       "Python version:             3.6.5 final\n",
       "--------------------------  ----------------------------------------"
      ]
     },
     "metadata": {},
     "output_type": "display_data"
    }
   ],
   "source": [
    "import h2o\n",
    "from h2o.automl import H2OAutoML\n",
    "h2o.init()"
   ]
  },
  {
   "cell_type": "code",
   "execution_count": 55,
   "metadata": {},
   "outputs": [],
   "source": [
    "mcare2 = X.rename(columns = {2007 : '2007', 2008 : '2008', 2009 : '2009', 2010 : '2010', 2011 : '2011', \n",
    "                    2012 : '2012', 2013 : '2013', 2014 : '2014'})"
   ]
  },
  {
   "cell_type": "code",
   "execution_count": 56,
   "metadata": {},
   "outputs": [],
   "source": [
    "mcare2 = pd.concat([mcare2, y], axis = 1)"
   ]
  },
  {
   "cell_type": "code",
   "execution_count": 57,
   "metadata": {},
   "outputs": [
    {
     "data": {
      "text/plain": [
       "Index(['average_age', 'percent_male', 'percent_female',\n",
       "       'percent_eligible_for_medicaid', 'procedures_actual_costs',\n",
       "       'actual_per_capita_costs', 'hospice_actual_costs',\n",
       "       'imaging_actual_costs', 'tests_actual_costs', 'dme_actual_costs',\n",
       "       'part_b_drugs_actual_costs', 'ambulance_actual_costs',\n",
       "       'hospital_readmission_rate', 'emergency_department_visits', '2007',\n",
       "       '2008', '2009', '2010', '2011', '2012', '2013', '2014',\n",
       "       'total_actual_costs'],\n",
       "      dtype='object')"
      ]
     },
     "execution_count": 57,
     "metadata": {},
     "output_type": "execute_result"
    }
   ],
   "source": [
    "mcare2.columns"
   ]
  },
  {
   "cell_type": "code",
   "execution_count": 58,
   "metadata": {
    "scrolled": true
   },
   "outputs": [
    {
     "name": "stdout",
     "output_type": "stream",
     "text": [
      "Parse progress: |█████████████████████████████████████████████████████████| 100%\n"
     ]
    }
   ],
   "source": [
    "# Load data into H2O\n",
    "df = h2o.H2OFrame(mcare2)"
   ]
  },
  {
   "cell_type": "code",
   "execution_count": 59,
   "metadata": {
    "scrolled": true
   },
   "outputs": [
    {
     "name": "stdout",
     "output_type": "stream",
     "text": [
      "Rows:25088\n",
      "Cols:23\n",
      "\n",
      "\n"
     ]
    },
    {
     "data": {
      "text/html": [
       "<table>\n",
       "<thead>\n",
       "<tr><th>       </th><th>average_age            </th><th>percent_male          </th><th>percent_female        </th><th>percent_eligible_for_medicaid  </th><th>procedures_actual_costs  </th><th>actual_per_capita_costs  </th><th>hospice_actual_costs   </th><th>imaging_actual_costs   </th><th>tests_actual_costs     </th><th>dme_actual_costs      </th><th>part_b_drugs_actual_costs  </th><th>ambulance_actual_costs  </th><th>hospital_readmission_rate  </th><th>emergency_department_visits  </th><th>2007               </th><th>2008               </th><th>2009               </th><th>2010               </th><th>2011              </th><th>2012               </th><th>2013               </th><th>2014               </th><th>total_actual_costs  </th></tr>\n",
       "</thead>\n",
       "<tbody>\n",
       "<tr><td>type   </td><td>real                   </td><td>real                  </td><td>real                  </td><td>real                           </td><td>real                     </td><td>real                     </td><td>real                   </td><td>real                   </td><td>real                   </td><td>real                  </td><td>real                       </td><td>real                    </td><td>real                       </td><td>real                         </td><td>int                </td><td>int                </td><td>int                </td><td>int                </td><td>int               </td><td>int                </td><td>int                </td><td>int                </td><td>real                </td></tr>\n",
       "<tr><td>mins   </td><td>-4.556769751315379     </td><td>-5.420041723056214    </td><td>-5.44403698739407     </td><td>-2.4042470956025777            </td><td>-0.3427840691807369      </td><td>-3.888984839535519       </td><td>-0.4183709864932077    </td><td>-0.31362398427790683   </td><td>-0.31812874439618094   </td><td>-0.4368086884583635   </td><td>-0.36765243376829343       </td><td>-0.34747608675420494    </td><td>-5.8633324354648995        </td><td>-0.44378968708927446         </td><td>0.0                </td><td>0.0                </td><td>0.0                </td><td>0.0                </td><td>0.0               </td><td>0.0                </td><td>0.0                </td><td>0.0                </td><td>11.83638106585536   </td></tr>\n",
       "<tr><td>mean   </td><td>-1.2688263138573218e-15</td><td>-5.582835780972216e-15</td><td>1.4863393962328627e-15</td><td>4.249541478344409e-16          </td><td>-6.45741963302387e-17    </td><td>-3.9877398435515827e-16  </td><td>-4.5315225494904345e-18</td><td>-1.3594567648471304e-17</td><td>-2.6056254659570002e-17</td><td>-1.586032892321652e-17</td><td>-1.2688263138573217e-16    </td><td>2.4923374022197392e-17  </td><td>1.468213306034901e-15      </td><td>-4.0783702945413916e-17      </td><td>0.125              </td><td>0.125              </td><td>0.125              </td><td>0.125              </td><td>0.125             </td><td>0.12500000000000003</td><td>0.12500000000000003</td><td>0.12500000000000003</td><td>17.348848586575617  </td></tr>\n",
       "<tr><td>maxs   </td><td>3.250795805227912      </td><td>5.443982047366047     </td><td>5.420013097867398     </td><td>5.743018455515433              </td><td>27.971655356472127       </td><td>9.534185502635047        </td><td>22.98849736901556      </td><td>29.41038935359687      </td><td>28.40680818676319      </td><td>32.02960832324673     </td><td>26.780889701821273         </td><td>34.92622669574426       </td><td>7.083549342706439          </td><td>24.545591385229788           </td><td>1.0                </td><td>1.0                </td><td>1.0                </td><td>1.0                </td><td>1.0               </td><td>1.0                </td><td>1.0                </td><td>1.0                </td><td>22.81946899803311   </td></tr>\n",
       "<tr><td>sigma  </td><td>1.0000199304427564     </td><td>1.0000199304427568    </td><td>1.0000199304427557    </td><td>1.000019930442757              </td><td>1.0000199304427555       </td><td>1.0000199304427557       </td><td>1.0000199304427568     </td><td>1.000019930442755      </td><td>1.0000199304427557     </td><td>1.000019930442756     </td><td>1.0000199304427555         </td><td>1.0000199304427586      </td><td>1.0000199304427575         </td><td>1.0000199304427575           </td><td>0.33072550525745553</td><td>0.33072550525745553</td><td>0.33072550525745553</td><td>0.33072550525745553</td><td>0.3307255052574556</td><td>0.3307255052574556 </td><td>0.3307255052574556 </td><td>0.3307255052574556 </td><td>1.3630988532608366  </td></tr>\n",
       "<tr><td>zeros  </td><td>32                     </td><td>0                     </td><td>0                     </td><td>0                              </td><td>0                        </td><td>0                        </td><td>0                      </td><td>0                      </td><td>0                      </td><td>0                     </td><td>0                          </td><td>0                       </td><td>0                          </td><td>48                           </td><td>21952              </td><td>21952              </td><td>21952              </td><td>21952              </td><td>21952             </td><td>21952              </td><td>21952              </td><td>21952              </td><td>0                   </td></tr>\n",
       "<tr><td>missing</td><td>0                      </td><td>0                     </td><td>0                     </td><td>0                              </td><td>0                        </td><td>0                        </td><td>0                      </td><td>0                      </td><td>0                      </td><td>0                     </td><td>0                          </td><td>0                       </td><td>0                          </td><td>0                            </td><td>0                  </td><td>0                  </td><td>0                  </td><td>0                  </td><td>0                 </td><td>0                  </td><td>0                  </td><td>0                  </td><td>0                   </td></tr>\n",
       "<tr><td>0      </td><td>-1.140959820327689     </td><td>0.3669027569272352    </td><td>-0.3669453992534146   </td><td>0.4495014793621233             </td><td>0.19512185605528448      </td><td>-1.1708277385568733      </td><td>-0.11473790780293593   </td><td>0.3129378985002164     </td><td>0.08383646776878809    </td><td>0.1867555979475287    </td><td>0.20562796395216093        </td><td>0.13155401598011723     </td><td>-0.3673626777796312        </td><td>0.43651066850844816          </td><td>1.0                </td><td>0.0                </td><td>0.0                </td><td>0.0                </td><td>0.0               </td><td>0.0                </td><td>0.0                </td><td>0.0                </td><td>18.7956650293594    </td></tr>\n",
       "<tr><td>1      </td><td>-0.16501412575977753   </td><td>2.072122397029026     </td><td>-2.072169169738347    </td><td>4.32123408820246               </td><td>-0.33576054247791903     </td><td>-0.5525974600205648      </td><td>-0.4183709864932077    </td><td>-0.31123607802578773   </td><td>-0.3163601322261364    </td><td>-0.427753244017717    </td><td>1.613420038008782e-16      </td><td>-0.19979152724084673    </td><td>0.7123824485014286         </td><td>-0.443461388306699           </td><td>1.0                </td><td>0.0                </td><td>0.0                </td><td>0.0                </td><td>0.0               </td><td>0.0                </td><td>0.0                </td><td>0.0                </td><td>15.424812531159054  </td></tr>\n",
       "<tr><td>2      </td><td>-1.6289326676116445    </td><td>1.879224247696244     </td><td>-1.8792705531676537   </td><td>-0.23141672996358012           </td><td>-0.3298620057973434      </td><td>-1.74672645633976        </td><td>-1.7187938138385017e-15</td><td>-0.3012919400434879    </td><td>-0.3077643340699694    </td><td>-0.4221847696673757   </td><td>-0.35688445607048025       </td><td>-0.3202767791007        </td><td>-0.7060404968926343        </td><td>-0.4240917601347494          </td><td>1.0                </td><td>0.0                </td><td>0.0                </td><td>0.0                </td><td>0.0               </td><td>0.0                </td><td>0.0                </td><td>0.0                </td><td>15.12407872559362   </td></tr>\n",
       "<tr><td>3      </td><td>0.0                    </td><td>5.482495149999001e-15 </td><td>-8.223762644548756e-15</td><td>1.5270113386013164e-14         </td><td>-2.5215326898183653e-16  </td><td>-1.2861309578425008e-15  </td><td>-1.7187938138385017e-15</td><td>-2.2475120680734456e-15</td><td>-5.4941649011611376e-17</td><td>1.4318043441107433e-15</td><td>1.613420038008782e-16      </td><td>-1.4228248419854612e-15 </td><td>2.512924169095403e-14      </td><td>0.0                          </td><td>1.0                </td><td>0.0                </td><td>0.0                </td><td>0.0                </td><td>0.0               </td><td>0.0                </td><td>0.0                </td><td>0.0                </td><td>18.40329944116096   </td></tr>\n",
       "<tr><td>4      </td><td>-0.16501412575977753   </td><td>2.184003323642038     </td><td>-2.184050367349349    </td><td>3.4412434455855214             </td><td>-0.3369077576218414      </td><td>1.3622145149046          </td><td>-1.7187938138385017e-15</td><td>-0.3103531389668894    </td><td>-0.31600413808404504   </td><td>-0.4328639275683072   </td><td>-0.3670400442834528        </td><td>-0.30921582814473175    </td><td>-0.380775660714799         </td><td>-0.44188555415033703         </td><td>1.0                </td><td>0.0                </td><td>0.0                </td><td>0.0                </td><td>0.0               </td><td>0.0                </td><td>0.0                </td><td>0.0                </td><td>15.195544244395402  </td></tr>\n",
       "<tr><td>5      </td><td>-0.6529869730437332    </td><td>1.8560764697763097    </td><td>-1.8561227191791696   </td><td>-0.29928233222195605           </td><td>-0.223354411523405       </td><td>-1.6399607026439762      </td><td>-0.39436301310446686   </td><td>-0.20920203788884376   </td><td>-0.22297196269258915   </td><td>-0.28684953656221135  </td><td>-0.134948529534106         </td><td>-0.11903390643262413    </td><td>-0.4411340839230569        </td><td>-0.23985048335342551         </td><td>1.0                </td><td>0.0                </td><td>0.0                </td><td>0.0                </td><td>0.0               </td><td>0.0                </td><td>0.0                </td><td>0.0                </td><td>17.35143346748759   </td></tr>\n",
       "<tr><td>6      </td><td>-0.16501412575977753   </td><td>2.7241181417738267    </td><td>-2.7241664937472905   </td><td>-0.10360317904363922           </td><td>-0.33843814601467553     </td><td>-1.3634586123110408      </td><td>-0.4183709864932077    </td><td>-0.30921202831386163   </td><td>-0.31590050954317495   </td><td>-0.427301939187512    </td><td>-0.35735130922895997       </td><td>-0.3052920030389693     </td><td>2.512924169095403e-14      </td><td>-0.441031977315641           </td><td>1.0                </td><td>0.0                </td><td>0.0                </td><td>0.0                </td><td>0.0               </td><td>0.0                </td><td>0.0                </td><td>0.0                </td><td>14.635918720650553  </td></tr>\n",
       "<tr><td>7      </td><td>0.0                    </td><td>5.482495149999001e-15 </td><td>-8.223762644548756e-15</td><td>1.5270113386013164e-14         </td><td>-2.5215326898183653e-16  </td><td>-1.2861309578425008e-15  </td><td>-1.7187938138385017e-15</td><td>-2.2475120680734456e-15</td><td>-5.4941649011611376e-17</td><td>1.4318043441107433e-15</td><td>1.613420038008782e-16      </td><td>-1.4228248419854612e-15 </td><td>2.512924169095403e-14      </td><td>0.0                          </td><td>1.0                </td><td>0.0                </td><td>0.0                </td><td>0.0                </td><td>0.0               </td><td>0.0                </td><td>0.0                </td><td>0.0                </td><td>18.40329944116096   </td></tr>\n",
       "<tr><td>8      </td><td>-0.6529869730437332    </td><td>0.3977664608204796    </td><td>-0.39780917790472486  </td><td>0.4970074009429861             </td><td>-0.2854481357409111      </td><td>-0.822891581363772       </td><td>-0.40357910294901894   </td><td>-0.26599704926687073   </td><td>-0.26412318651573524   </td><td>-0.36167454802157945  </td><td>-0.33809232234142783       </td><td>-0.18190842532794552    </td><td>-0.14269521361555937       </td><td>-0.3328903583352987          </td><td>1.0                </td><td>0.0                </td><td>0.0                </td><td>0.0                </td><td>0.0               </td><td>0.0                </td><td>0.0                </td><td>0.0                </td><td>16.913175104963273  </td></tr>\n",
       "<tr><td>9      </td><td>-0.6529869730437332    </td><td>2.033542767162469     </td><td>-2.033589446424208    </td><td>-0.024426643075534247          </td><td>-0.21502957156481947     </td><td>-1.2648098841280229      </td><td>-0.38632393027240575   </td><td>-0.19946765115691625   </td><td>-0.22377656903679355   </td><td>-0.2014236980354582   </td><td>-0.30240546800618817       </td><td>-0.17585722905231277    </td><td>-0.9709469098622108        </td><td>-0.18876719278469067         </td><td>1.0                </td><td>0.0                </td><td>0.0                </td><td>0.0                </td><td>0.0               </td><td>0.0                </td><td>0.0                </td><td>0.0                </td><td>17.517852717809543  </td></tr>\n",
       "</tbody>\n",
       "</table>"
      ]
     },
     "metadata": {},
     "output_type": "display_data"
    }
   ],
   "source": [
    "df.describe()"
   ]
  },
  {
   "cell_type": "code",
   "execution_count": 112,
   "metadata": {},
   "outputs": [],
   "source": [
    "y = \"total_actual_costs\"\n",
    "splits = df.split_frame(ratios = [0.8], seed = 1)\n",
    "train = splits[0]\n",
    "test = splits[1]"
   ]
  },
  {
   "cell_type": "code",
   "execution_count": 113,
   "metadata": {},
   "outputs": [
    {
     "name": "stdout",
     "output_type": "stream",
     "text": [
      "AutoML progress: |████████████████████████████████████████████████████████| 100%\n"
     ]
    }
   ],
   "source": [
    "aml = H2OAutoML(max_runtime_secs = 360, seed = 1, project_name = \"total_actual_costs\")\n",
    "aml.train(y = y, training_frame = train, leaderboard_frame = test)"
   ]
  },
  {
   "cell_type": "code",
   "execution_count": 114,
   "metadata": {},
   "outputs": [
    {
     "data": {
      "text/html": [
       "<table>\n",
       "<thead>\n",
       "<tr><th>model_id                                           </th><th style=\"text-align: right;\">  mean_residual_deviance</th><th style=\"text-align: right;\">    rmse</th><th style=\"text-align: right;\">      mse</th><th style=\"text-align: right;\">      mae</th><th style=\"text-align: right;\">     rmsle</th></tr>\n",
       "</thead>\n",
       "<tbody>\n",
       "<tr><td>XRT_1_AutoML_20190114_130159                       </td><td style=\"text-align: right;\">               0.0257562</td><td style=\"text-align: right;\">0.160488</td><td style=\"text-align: right;\">0.0257562</td><td style=\"text-align: right;\">0.0666791</td><td style=\"text-align: right;\">0.00996824</td></tr>\n",
       "<tr><td>XRT_1_AutoML_20190114_140600                       </td><td style=\"text-align: right;\">               0.0257562</td><td style=\"text-align: right;\">0.160488</td><td style=\"text-align: right;\">0.0257562</td><td style=\"text-align: right;\">0.0666791</td><td style=\"text-align: right;\">0.00996824</td></tr>\n",
       "<tr><td>StackedEnsemble_BestOfFamily_AutoML_20190114_130159</td><td style=\"text-align: right;\">               0.0261663</td><td style=\"text-align: right;\">0.16176 </td><td style=\"text-align: right;\">0.0261663</td><td style=\"text-align: right;\">0.0656662</td><td style=\"text-align: right;\">0.0100255 </td></tr>\n",
       "<tr><td>StackedEnsemble_AllModels_AutoML_20190114_130159   </td><td style=\"text-align: right;\">               0.0261663</td><td style=\"text-align: right;\">0.16176 </td><td style=\"text-align: right;\">0.0261663</td><td style=\"text-align: right;\">0.0656662</td><td style=\"text-align: right;\">0.0100255 </td></tr>\n",
       "<tr><td>DRF_1_AutoML_20190114_140600                       </td><td style=\"text-align: right;\">               0.0263505</td><td style=\"text-align: right;\">0.162328</td><td style=\"text-align: right;\">0.0263505</td><td style=\"text-align: right;\">0.0673319</td><td style=\"text-align: right;\">0.0100757 </td></tr>\n",
       "<tr><td>DRF_1_AutoML_20190114_130159                       </td><td style=\"text-align: right;\">               0.0268302</td><td style=\"text-align: right;\">0.163799</td><td style=\"text-align: right;\">0.0268302</td><td style=\"text-align: right;\">0.0669659</td><td style=\"text-align: right;\">0.0101617 </td></tr>\n",
       "<tr><td>XGBoost_1_AutoML_20190114_140600                   </td><td style=\"text-align: right;\">               0.0277421</td><td style=\"text-align: right;\">0.16656 </td><td style=\"text-align: right;\">0.0277421</td><td style=\"text-align: right;\">0.0710939</td><td style=\"text-align: right;\">0.0102442 </td></tr>\n",
       "<tr><td>XGBoost_1_AutoML_20190114_130159                   </td><td style=\"text-align: right;\">               0.0277421</td><td style=\"text-align: right;\">0.16656 </td><td style=\"text-align: right;\">0.0277421</td><td style=\"text-align: right;\">0.0710939</td><td style=\"text-align: right;\">0.0102442 </td></tr>\n",
       "<tr><td>GLM_grid_1_AutoML_20190114_140600_model_1          </td><td style=\"text-align: right;\">               0.676655 </td><td style=\"text-align: right;\">0.82259 </td><td style=\"text-align: right;\">0.676655 </td><td style=\"text-align: right;\">0.611664 </td><td style=\"text-align: right;\">0.0453156 </td></tr>\n",
       "<tr><td>GLM_grid_1_AutoML_20190114_130159_model_1          </td><td style=\"text-align: right;\">               0.676655 </td><td style=\"text-align: right;\">0.82259 </td><td style=\"text-align: right;\">0.676655 </td><td style=\"text-align: right;\">0.611664 </td><td style=\"text-align: right;\">0.0453156 </td></tr>\n",
       "</tbody>\n",
       "</table>"
      ]
     },
     "metadata": {},
     "output_type": "display_data"
    },
    {
     "data": {
      "text/plain": []
     },
     "execution_count": 114,
     "metadata": {},
     "output_type": "execute_result"
    }
   ],
   "source": [
    "aml.leaderboard.head()"
   ]
  },
  {
   "cell_type": "code",
   "execution_count": 115,
   "metadata": {},
   "outputs": [
    {
     "name": "stdout",
     "output_type": "stream",
     "text": [
      "drf prediction progress: |████████████████████████████████████████████████| 100%\n"
     ]
    },
    {
     "data": {
      "text/html": [
       "<table>\n",
       "<thead>\n",
       "<tr><th style=\"text-align: right;\">  predict</th></tr>\n",
       "</thead>\n",
       "<tbody>\n",
       "<tr><td style=\"text-align: right;\">  15.1849</td></tr>\n",
       "<tr><td style=\"text-align: right;\">  17.4979</td></tr>\n",
       "<tr><td style=\"text-align: right;\">  15.1456</td></tr>\n",
       "<tr><td style=\"text-align: right;\">  16.945 </td></tr>\n",
       "<tr><td style=\"text-align: right;\">  17.966 </td></tr>\n",
       "<tr><td style=\"text-align: right;\">  18.8557</td></tr>\n",
       "<tr><td style=\"text-align: right;\">  16.5022</td></tr>\n",
       "<tr><td style=\"text-align: right;\">  17.5863</td></tr>\n",
       "<tr><td style=\"text-align: right;\">  18.2137</td></tr>\n",
       "<tr><td style=\"text-align: right;\">  19.6103</td></tr>\n",
       "</tbody>\n",
       "</table>"
      ]
     },
     "metadata": {},
     "output_type": "display_data"
    },
    {
     "data": {
      "text/plain": []
     },
     "execution_count": 115,
     "metadata": {},
     "output_type": "execute_result"
    }
   ],
   "source": [
    "pred = aml.predict(test)\n",
    "pred.head()"
   ]
  },
  {
   "cell_type": "code",
   "execution_count": 116,
   "metadata": {},
   "outputs": [],
   "source": [
    "from h2o.model.model_base import ModelBase\n",
    "from h2o.utils.compatibility import *\n",
    "from h2o.utils.shared_utils import _colmean\n",
    "\n",
    "def r2(y_actual, y_predicted, weights = 1.):\n",
    "    ModelBase._check_targets(y_actual, y_predicted)\n",
    "    numerator = (weights * (y_actual - y_predicted) ** 2).sum()\n",
    "    denominator = (weights * (y_actual - _colmean(y_actual)) ** 2).sum()\n",
    "    \n",
    "    if denominator == 0.0:\n",
    "        return 1. if numerator == 0. else 0. \n",
    "    return 1 - numerator/denominator"
   ]
  },
  {
   "cell_type": "code",
   "execution_count": 117,
   "metadata": {},
   "outputs": [],
   "source": [
    "aml_r2 =r2(test['total_actual_costs'], pred, weights = 1.)"
   ]
  },
  {
   "cell_type": "code",
   "execution_count": 118,
   "metadata": {},
   "outputs": [
    {
     "name": "stdout",
     "output_type": "stream",
     "text": [
      "\n",
      "ModelMetricsRegression: drf\n",
      "** Reported on test data. **\n",
      "\n",
      "MSE: 0.025756247955180108\n",
      "RMSE: 0.16048753208639016\n",
      "MAE: 0.06667907353200017\n",
      "RMSLE: 0.009968240032467872\n",
      "Mean Residual Deviance: 0.025756247955180108\n"
     ]
    },
    {
     "data": {
      "text/plain": []
     },
     "execution_count": 118,
     "metadata": {},
     "output_type": "execute_result"
    }
   ],
   "source": [
    "perf = aml.leader.model_performance(test)\n",
    "perf"
   ]
  },
  {
   "cell_type": "code",
   "execution_count": 119,
   "metadata": {},
   "outputs": [],
   "source": [
    "aml_re = perf.mse()"
   ]
  },
  {
   "cell_type": "code",
   "execution_count": 309,
   "metadata": {},
   "outputs": [],
   "source": [
    "scores_list = ['score_lr','score_dt','score_ranf','score_xgb','score_gbr','aml_r2', 'score_ols']\n",
    "scores = [score_lr,score_dt,score_ranf,score_xgb,score_gbr, aml_r2, score_ols]\n",
    "MSE = [MSE_lr,MSE_dt,MSE_ranf,MSE_xgb,MSE_gbr, aml_re]"
   ]
  },
  {
   "cell_type": "code",
   "execution_count": 310,
   "metadata": {},
   "outputs": [],
   "source": [
    "score_df = pd.DataFrame([scores_list, scores, MSE]).T"
   ]
  },
  {
   "cell_type": "code",
   "execution_count": 311,
   "metadata": {},
   "outputs": [
    {
     "data": {
      "text/html": [
       "<div>\n",
       "<style scoped>\n",
       "    .dataframe tbody tr th:only-of-type {\n",
       "        vertical-align: middle;\n",
       "    }\n",
       "\n",
       "    .dataframe tbody tr th {\n",
       "        vertical-align: top;\n",
       "    }\n",
       "\n",
       "    .dataframe thead th {\n",
       "        text-align: right;\n",
       "    }\n",
       "</style>\n",
       "<table border=\"1\" class=\"dataframe\">\n",
       "  <thead>\n",
       "    <tr style=\"text-align: right;\">\n",
       "      <th></th>\n",
       "      <th>r2</th>\n",
       "      <th>MSE</th>\n",
       "    </tr>\n",
       "    <tr>\n",
       "      <th>0</th>\n",
       "      <th></th>\n",
       "      <th></th>\n",
       "    </tr>\n",
       "  </thead>\n",
       "  <tbody>\n",
       "    <tr>\n",
       "      <th>score_lr</th>\n",
       "      <td>0.624965</td>\n",
       "      <td>0.693241</td>\n",
       "    </tr>\n",
       "    <tr>\n",
       "      <th>score_dt</th>\n",
       "      <td>0.978977</td>\n",
       "      <td>0.0388608</td>\n",
       "    </tr>\n",
       "    <tr>\n",
       "      <th>score_ranf</th>\n",
       "      <td>0.989828</td>\n",
       "      <td>0.0188023</td>\n",
       "    </tr>\n",
       "    <tr>\n",
       "      <th>score_xgb</th>\n",
       "      <td>0.994918</td>\n",
       "      <td>0.00939335</td>\n",
       "    </tr>\n",
       "    <tr>\n",
       "      <th>score_gbr</th>\n",
       "      <td>0.993269</td>\n",
       "      <td>0.0124427</td>\n",
       "    </tr>\n",
       "    <tr>\n",
       "      <th>aml_r2</th>\n",
       "      <td>0.986052</td>\n",
       "      <td>0.0257562</td>\n",
       "    </tr>\n",
       "    <tr>\n",
       "      <th>score_ols</th>\n",
       "      <td>0.619174</td>\n",
       "      <td>None</td>\n",
       "    </tr>\n",
       "  </tbody>\n",
       "</table>\n",
       "</div>"
      ],
      "text/plain": [
       "                  r2         MSE\n",
       "0                               \n",
       "score_lr    0.624965    0.693241\n",
       "score_dt    0.978977   0.0388608\n",
       "score_ranf  0.989828   0.0188023\n",
       "score_xgb   0.994918  0.00939335\n",
       "score_gbr   0.993269   0.0124427\n",
       "aml_r2      0.986052   0.0257562\n",
       "score_ols   0.619174        None"
      ]
     },
     "execution_count": 311,
     "metadata": {},
     "output_type": "execute_result"
    }
   ],
   "source": [
    "score_df.index = score_df[0]\n",
    "del score_df[0]\n",
    "score_df = score_df.rename(columns = {1 : \"r2\", 2 : 'MSE'})\n",
    "score_df"
   ]
  },
  {
   "cell_type": "code",
   "execution_count": 313,
   "metadata": {},
   "outputs": [
    {
     "data": {
      "image/png": "[encoded data removed]",
      "text/plain": [
       "<Figure size 432x288 with 1 Axes>"
      ]
     },
     "metadata": {},
     "output_type": "display_data"
    }
   ],
   "source": [
    "score_df['r2'].plot(linestyle = '--', marker = 'o')\n",
    "score_df['MSE'].plot(linestyle = '-', marker = '*')\n",
    "plt.xticks([0,1,2,3,4,5,6],scores_list, rotation = 45)\n",
    "plt.title('Model Accuracy')\n",
    "plt.ylabel('Score')\n",
    "plt.xlabel('Model')\n",
    "plt.legend()\n",
    "plt.show()"
   ]
  },
  {
   "cell_type": "raw",
   "metadata": {},
   "source": [
    "The best r-sqare value is 99.4918% produced by the XgBoost model."
   ]
  },
  {
   "cell_type": "code",
   "execution_count": 65,
   "metadata": {},
   "outputs": [],
   "source": [
    "# classification model"
   ]
  },
  {
   "cell_type": "raw",
   "metadata": {},
   "source": [
    "The values in our dependent variable total_actual_cost are continuous and are too big to predict using regression. The mse/rmse that our model returns are too big. So we should instead convert our dependent to a multiclass variable and apply classification models to predict the ranges of total_actual_cost"
   ]
  },
  {
   "cell_type": "code",
   "execution_count": 66,
   "metadata": {
    "scrolled": true
   },
   "outputs": [
    {
     "data": {
      "text/plain": [
       "8135223068.14"
      ]
     },
     "execution_count": 66,
     "metadata": {},
     "output_type": "execute_result"
    }
   ],
   "source": [
    "max(mcare1.total_actual_costs)"
   ]
  },
  {
   "cell_type": "code",
   "execution_count": 67,
   "metadata": {},
   "outputs": [],
   "source": [
    "mcare1['range_total_costs'] = mcare1.total_actual_costs"
   ]
  },
  {
   "cell_type": "raw",
   "metadata": {},
   "source": [
    "Create bins for classification so that we can convert the total_actual_cost to a multi-class variable."
   ]
  },
  {
   "cell_type": "code",
   "execution_count": 68,
   "metadata": {},
   "outputs": [],
   "source": [
    "bins = [0, 1000000, 10000000, 500000000, 1000000000, 8000000000]\n",
    "names = [1, 2, 3, 4, 5]"
   ]
  },
  {
   "cell_type": "code",
   "execution_count": 69,
   "metadata": {},
   "outputs": [],
   "source": [
    "mcare1.range_total_costs = pd.cut(mcare1['range_total_costs'], bins, labels = names)"
   ]
  },
  {
   "cell_type": "code",
   "execution_count": 70,
   "metadata": {},
   "outputs": [
    {
     "data": {
      "text/plain": [
       "3    20170\n",
       "2     3801\n",
       "4      591\n",
       "5      324\n",
       "1      199\n",
       "Name: range_total_costs, dtype: int64"
      ]
     },
     "execution_count": 70,
     "metadata": {},
     "output_type": "execute_result"
    }
   ],
   "source": [
    "mcare1.range_total_costs.value_counts()"
   ]
  },
  {
   "cell_type": "code",
   "execution_count": 71,
   "metadata": {},
   "outputs": [],
   "source": [
    "mcare1.drop(['state','county','total_actual_costs'], axis = 1, inplace = True)"
   ]
  },
  {
   "cell_type": "code",
   "execution_count": 72,
   "metadata": {},
   "outputs": [],
   "source": [
    "from sklearn import preprocessing"
   ]
  },
  {
   "cell_type": "code",
   "execution_count": 73,
   "metadata": {},
   "outputs": [],
   "source": [
    "pr = preprocessing.LabelEncoder()#convert year into columns 1, 2, 3, ect"
   ]
  },
  {
   "cell_type": "code",
   "execution_count": 74,
   "metadata": {},
   "outputs": [],
   "source": [
    "mcare1.year = pr.fit_transform(mcare1.year)"
   ]
  },
  {
   "cell_type": "code",
   "execution_count": 75,
   "metadata": {},
   "outputs": [
    {
     "data": {
      "text/plain": [
       "7    3136\n",
       "6    3136\n",
       "5    3136\n",
       "4    3136\n",
       "3    3136\n",
       "2    3136\n",
       "1    3136\n",
       "0    3136\n",
       "Name: year, dtype: int64"
      ]
     },
     "execution_count": 75,
     "metadata": {},
     "output_type": "execute_result"
    }
   ],
   "source": [
    "mcare1.year.value_counts()"
   ]
  },
  {
   "cell_type": "code",
   "execution_count": 76,
   "metadata": {},
   "outputs": [],
   "source": [
    "X = mcare1.drop('range_total_costs', axis = 1)\n",
    "y = mcare1.range_total_costs"
   ]
  },
  {
   "cell_type": "raw",
   "metadata": {},
   "source": [
    "from sklearn.preprocessing import scale\n",
    "X = scale(X)"
   ]
  },
  {
   "cell_type": "code",
   "execution_count": 77,
   "metadata": {},
   "outputs": [],
   "source": [
    "from sklearn.preprocessing import StandardScaler\n",
    "X.iloc[:,1:] = scaler.fit_transform(X.iloc[:,1:]).round(5)"
   ]
  },
  {
   "cell_type": "code",
   "execution_count": 78,
   "metadata": {},
   "outputs": [],
   "source": [
    "X_train, X_test, y_train, y_test = train_test_split(X, y, test_size = 0.65, random_state = 1)"
   ]
  },
  {
   "cell_type": "raw",
   "metadata": {},
   "source": [
    "Somewhere in the the X_train we were having some issue, so I'll be considering X_test to be X_train and vice-versa. For this reason we are taking test_size = 0.65 which is X_test which is here our X_train, so ultimately the X_train is the 35% data."
   ]
  },
  {
   "cell_type": "code",
   "execution_count": 79,
   "metadata": {},
   "outputs": [],
   "source": [
    "from sklearn.model_selection import train_test_split\n",
    "from sklearn.metrics import classification_report\n",
    "from sklearn.metrics import confusion_matrix\n",
    "from sklearn.metrics import accuracy_score\n",
    "from sklearn.neighbors import KNeighborsClassifier "
   ]
  },
  {
   "cell_type": "code",
   "execution_count": 80,
   "metadata": {},
   "outputs": [],
   "source": [
    "def model_fit(x):\n",
    "    x.fit(X_test, y_test)\n",
    "    y_pred = x.predict(X_train)\n",
    "    model_fit.accuracy = accuracy_score(y_pred, np.array(y_train).astype('int'))\n",
    "    print('Accuracy Score',accuracy_score(y_pred, np.array(y_train).astype('int')))\n",
    "    print(classification_report(y_pred, np.array(y_train).astype('int')))\n",
    "    print('Confusion Matrix \\n',confusion_matrix(y_pred, np.array(y_train).astype('int')))"
   ]
  },
  {
   "cell_type": "code",
   "execution_count": 90,
   "metadata": {
    "scrolled": true
   },
   "outputs": [
    {
     "name": "stdout",
     "output_type": "stream",
     "text": [
      "Accuracy Score 0.8695899772209568\n"
     ]
    },
    {
     "name": "stderr",
     "output_type": "stream",
     "text": [
      "/home/m/anaconda3/lib/python3.6/site-packages/sklearn/metrics/classification.py:1145: UndefinedMetricWarning: Recall and F-score are ill-defined and being set to 0.0 in labels with no true samples.\n",
      "  'recall', 'true', average, warn_for)\n",
      "/home/m/anaconda3/lib/python3.6/site-packages/sklearn/metrics/classification.py:1145: UndefinedMetricWarning: Recall and F-score are ill-defined and being set to 0.0 in labels with no true samples.\n",
      "  'recall', 'true', average, warn_for)\n",
      "/home/m/anaconda3/lib/python3.6/site-packages/sklearn/metrics/classification.py:1145: UndefinedMetricWarning: Recall and F-score are ill-defined and being set to 0.0 in labels with no true samples.\n",
      "  'recall', 'true', average, warn_for)\n"
     ]
    },
    {
     "name": "stdout",
     "output_type": "stream",
     "text": [
      "                      precision    recall  f1-score   support\n",
      "\n",
      "-9223372036854775808       0.00      0.00      0.00         0\n",
      "                   1       0.46      0.71      0.56        35\n",
      "                   2       0.48      0.64      0.55      1050\n",
      "                   3       0.95      0.90      0.92      7377\n",
      "                   4       0.91      0.91      0.91       209\n",
      "                   5       0.87      0.96      0.91       109\n",
      "\n",
      "           micro avg       0.87      0.87      0.87      8780\n",
      "           macro avg       0.61      0.69      0.64      8780\n",
      "        weighted avg       0.89      0.87      0.88      8780\n",
      "\n",
      "Confusion Matrix \n",
      " [[   0    0    0    0    0    0]\n",
      " [   0   25   10    0    0    0]\n",
      " [   0   17  675  358    0    0]\n",
      " [   0   12  707 6640   18    0]\n",
      " [   0    0    0    3  190   16]\n",
      " [   3    0    0    0    1  105]]\n"
     ]
    }
   ],
   "source": [
    "model_fit(KNeighborsClassifier(n_neighbors = 4))\n",
    "KNN = model_fit.accuracy"
   ]
  },
  {
   "cell_type": "code",
   "execution_count": null,
   "metadata": {},
   "outputs": [],
   "source": []
  },
  {
   "cell_type": "code",
   "execution_count": 82,
   "metadata": {},
   "outputs": [
    {
     "name": "stdout",
     "output_type": "stream",
     "text": [
      "Accuracy Score 0.9034168564920273\n"
     ]
    },
    {
     "name": "stderr",
     "output_type": "stream",
     "text": [
      "/home/m/anaconda3/lib/python3.6/site-packages/sklearn/metrics/classification.py:1145: UndefinedMetricWarning: Recall and F-score are ill-defined and being set to 0.0 in labels with no true samples.\n",
      "  'recall', 'true', average, warn_for)\n",
      "/home/m/anaconda3/lib/python3.6/site-packages/sklearn/metrics/classification.py:1145: UndefinedMetricWarning: Recall and F-score are ill-defined and being set to 0.0 in labels with no true samples.\n",
      "  'recall', 'true', average, warn_for)\n",
      "/home/m/anaconda3/lib/python3.6/site-packages/sklearn/metrics/classification.py:1145: UndefinedMetricWarning: Recall and F-score are ill-defined and being set to 0.0 in labels with no true samples.\n",
      "  'recall', 'true', average, warn_for)\n"
     ]
    },
    {
     "name": "stdout",
     "output_type": "stream",
     "text": [
      "                      precision    recall  f1-score   support\n",
      "\n",
      "-9223372036854775808       0.00      0.00      0.00         0\n",
      "                   1       0.24      0.72      0.36        18\n",
      "                   2       0.57      0.91      0.70       873\n",
      "                   3       0.99      0.90      0.95      7680\n",
      "                   4       0.34      0.89      0.49        80\n",
      "                   5       0.91      0.85      0.88       129\n",
      "\n",
      "           micro avg       0.90      0.90      0.90      8780\n",
      "           macro avg       0.51      0.71      0.56      8780\n",
      "        weighted avg       0.94      0.90      0.92      8780\n",
      "\n",
      "Confusion Matrix \n",
      " [[   0    0    0    0    0    0]\n",
      " [   0   13    4    1    0    0]\n",
      " [   0   28  793   52    0    0]\n",
      " [   0   13  595 6945  122    5]\n",
      " [   0    0    0    3   71    6]\n",
      " [   3    0    0    0   16  110]]\n"
     ]
    }
   ],
   "source": [
    "from sklearn.linear_model import LogisticRegression\n",
    "model_fit(LogisticRegression())\n",
    "Logistic = model_fit.accuracy"
   ]
  },
  {
   "cell_type": "code",
   "execution_count": 83,
   "metadata": {},
   "outputs": [
    {
     "name": "stdout",
     "output_type": "stream",
     "text": [
      "Accuracy Score 0.7458997722095672\n"
     ]
    },
    {
     "name": "stderr",
     "output_type": "stream",
     "text": [
      "/home/m/anaconda3/lib/python3.6/site-packages/sklearn/metrics/classification.py:1145: UndefinedMetricWarning: Recall and F-score are ill-defined and being set to 0.0 in labels with no true samples.\n",
      "  'recall', 'true', average, warn_for)\n",
      "/home/m/anaconda3/lib/python3.6/site-packages/sklearn/metrics/classification.py:1145: UndefinedMetricWarning: Recall and F-score are ill-defined and being set to 0.0 in labels with no true samples.\n",
      "  'recall', 'true', average, warn_for)\n",
      "/home/m/anaconda3/lib/python3.6/site-packages/sklearn/metrics/classification.py:1145: UndefinedMetricWarning: Recall and F-score are ill-defined and being set to 0.0 in labels with no true samples.\n",
      "  'recall', 'true', average, warn_for)\n"
     ]
    },
    {
     "name": "stdout",
     "output_type": "stream",
     "text": [
      "                      precision    recall  f1-score   support\n",
      "\n",
      "-9223372036854775808       0.00      0.00      0.00         0\n",
      "                   1       0.72      0.03      0.06      1220\n",
      "                   2       0.96      0.65      0.78      2045\n",
      "                   3       0.70      1.00      0.82      4886\n",
      "                   4       0.98      0.39      0.55       529\n",
      "                   5       0.76      0.92      0.83       100\n",
      "\n",
      "           micro avg       0.75      0.75      0.75      8780\n",
      "           macro avg       0.69      0.50      0.51      8780\n",
      "        weighted avg       0.78      0.75      0.69      8780\n",
      "\n",
      "Confusion Matrix \n",
      " [[   0    0    0    0    0    0]\n",
      " [   0   39   50 1131    0    0]\n",
      " [   0   11 1337  697    0    0]\n",
      " [   0    4    5 4877    0    0]\n",
      " [   0    0    0  296  204   29]\n",
      " [   3    0    0    0    5   92]]\n"
     ]
    }
   ],
   "source": [
    "from sklearn.naive_bayes import GaussianNB\n",
    "model_fit(GaussianNB())\n",
    "Gaussian = model_fit.accuracy"
   ]
  },
  {
   "cell_type": "code",
   "execution_count": 84,
   "metadata": {},
   "outputs": [
    {
     "name": "stdout",
     "output_type": "stream",
     "text": [
      "Accuracy Score 0.9685649202733485\n"
     ]
    },
    {
     "name": "stderr",
     "output_type": "stream",
     "text": [
      "/home/m/anaconda3/lib/python3.6/site-packages/sklearn/metrics/classification.py:1145: UndefinedMetricWarning: Recall and F-score are ill-defined and being set to 0.0 in labels with no true samples.\n",
      "  'recall', 'true', average, warn_for)\n",
      "/home/m/anaconda3/lib/python3.6/site-packages/sklearn/metrics/classification.py:1145: UndefinedMetricWarning: Recall and F-score are ill-defined and being set to 0.0 in labels with no true samples.\n",
      "  'recall', 'true', average, warn_for)\n",
      "/home/m/anaconda3/lib/python3.6/site-packages/sklearn/metrics/classification.py:1145: UndefinedMetricWarning: Recall and F-score are ill-defined and being set to 0.0 in labels with no true samples.\n",
      "  'recall', 'true', average, warn_for)\n"
     ]
    },
    {
     "name": "stdout",
     "output_type": "stream",
     "text": [
      "                      precision    recall  f1-score   support\n",
      "\n",
      "-9223372036854775808       0.00      0.00      0.00         0\n",
      "                   1       0.83      0.71      0.77        63\n",
      "                   2       0.91      0.91      0.91      1390\n",
      "                   3       0.98      0.98      0.98      6991\n",
      "                   4       0.96      0.93      0.94       215\n",
      "                   5       0.94      0.94      0.94       121\n",
      "\n",
      "           micro avg       0.97      0.97      0.97      8780\n",
      "           macro avg       0.77      0.75      0.76      8780\n",
      "        weighted avg       0.97      0.97      0.97      8780\n",
      "\n",
      "Confusion Matrix \n",
      " [[   0    0    0    0    0    0]\n",
      " [   0   45   18    0    0    0]\n",
      " [   0    8 1267  115    0    0]\n",
      " [   0    1  107 6878    5    0]\n",
      " [   0    0    0    8  200    7]\n",
      " [   3    0    0    0    4  114]]\n"
     ]
    }
   ],
   "source": [
    "from sklearn import tree\n",
    "model_fit(tree.DecisionTreeClassifier())\n",
    "Tree = model_fit.accuracy"
   ]
  },
  {
   "cell_type": "code",
   "execution_count": 85,
   "metadata": {},
   "outputs": [
    {
     "name": "stdout",
     "output_type": "stream",
     "text": [
      "Accuracy Score 0.975740318906606\n"
     ]
    },
    {
     "name": "stderr",
     "output_type": "stream",
     "text": [
      "/home/m/anaconda3/lib/python3.6/site-packages/sklearn/metrics/classification.py:1145: UndefinedMetricWarning: Recall and F-score are ill-defined and being set to 0.0 in labels with no true samples.\n",
      "  'recall', 'true', average, warn_for)\n",
      "/home/m/anaconda3/lib/python3.6/site-packages/sklearn/metrics/classification.py:1145: UndefinedMetricWarning: Recall and F-score are ill-defined and being set to 0.0 in labels with no true samples.\n",
      "  'recall', 'true', average, warn_for)\n",
      "/home/m/anaconda3/lib/python3.6/site-packages/sklearn/metrics/classification.py:1145: UndefinedMetricWarning: Recall and F-score are ill-defined and being set to 0.0 in labels with no true samples.\n",
      "  'recall', 'true', average, warn_for)\n"
     ]
    },
    {
     "name": "stdout",
     "output_type": "stream",
     "text": [
      "                      precision    recall  f1-score   support\n",
      "\n",
      "-9223372036854775808       0.00      0.00      0.00         0\n",
      "                   1       0.74      0.93      0.82        43\n",
      "                   2       0.93      0.93      0.93      1393\n",
      "                   3       0.99      0.99      0.99      7012\n",
      "                   4       0.97      0.94      0.96       216\n",
      "                   5       0.92      0.96      0.94       116\n",
      "\n",
      "           micro avg       0.98      0.98      0.98      8780\n",
      "           macro avg       0.76      0.79      0.77      8780\n",
      "        weighted avg       0.98      0.98      0.98      8780\n",
      "\n",
      "Confusion Matrix \n",
      " [[   0    0    0    0    0    0]\n",
      " [   0   40    3    0    0    0]\n",
      " [   0   10 1299   84    0    0]\n",
      " [   0    4   90 6914    4    0]\n",
      " [   0    0    0    3  203   10]\n",
      " [   3    0    0    0    2  111]]\n"
     ]
    }
   ],
   "source": [
    "from sklearn.ensemble import RandomForestClassifier\n",
    "model_fit(RandomForestClassifier(n_estimators = 100, max_depth =10, random_state = 1))\n",
    "RandomForest = model_fit.accuracy"
   ]
  },
  {
   "cell_type": "code",
   "execution_count": 86,
   "metadata": {},
   "outputs": [
    {
     "name": "stdout",
     "output_type": "stream",
     "text": [
      "Accuracy Score 0.9767653758542141\n"
     ]
    },
    {
     "name": "stderr",
     "output_type": "stream",
     "text": [
      "/home/m/anaconda3/lib/python3.6/site-packages/sklearn/metrics/classification.py:1145: UndefinedMetricWarning: Recall and F-score are ill-defined and being set to 0.0 in labels with no true samples.\n",
      "  'recall', 'true', average, warn_for)\n",
      "/home/m/anaconda3/lib/python3.6/site-packages/sklearn/metrics/classification.py:1145: UndefinedMetricWarning: Recall and F-score are ill-defined and being set to 0.0 in labels with no true samples.\n",
      "  'recall', 'true', average, warn_for)\n",
      "/home/m/anaconda3/lib/python3.6/site-packages/sklearn/metrics/classification.py:1145: UndefinedMetricWarning: Recall and F-score are ill-defined and being set to 0.0 in labels with no true samples.\n",
      "  'recall', 'true', average, warn_for)\n"
     ]
    },
    {
     "name": "stdout",
     "output_type": "stream",
     "text": [
      "                      precision    recall  f1-score   support\n",
      "\n",
      "-9223372036854775808       0.00      0.00      0.00         0\n",
      "                   1       0.80      0.88      0.83        49\n",
      "                   2       0.94      0.93      0.94      1397\n",
      "                   3       0.99      0.99      0.99      7003\n",
      "                   4       0.96      0.96      0.96       210\n",
      "                   5       0.95      0.95      0.95       121\n",
      "\n",
      "           micro avg       0.98      0.98      0.98      8780\n",
      "           macro avg       0.77      0.78      0.78      8780\n",
      "        weighted avg       0.98      0.98      0.98      8780\n",
      "\n",
      "Confusion Matrix \n",
      " [[   0    0    0    0    0    0]\n",
      " [   0   43    6    0    0    0]\n",
      " [   0    8 1304   85    0    0]\n",
      " [   0    3   82 6913    5    0]\n",
      " [   0    0    0    3  201    6]\n",
      " [   3    0    0    0    3  115]]\n"
     ]
    }
   ],
   "source": [
    "from xgboost import XGBClassifier\n",
    "model_fit(XGBClassifier())\n",
    "XGBClassifier = model_fit.accuracy"
   ]
  },
  {
   "cell_type": "code",
   "execution_count": 87,
   "metadata": {},
   "outputs": [],
   "source": [
    "scores_list_1 = ['KNN','Logistic','Gaussian','Tree','RandomForest','XGBClassifier']\n",
    "scores_1 = [KNN, Logistic, Gaussian, Tree, RandomForest, XGBClassifier]"
   ]
  },
  {
   "cell_type": "code",
   "execution_count": 88,
   "metadata": {},
   "outputs": [],
   "source": [
    "score_df_classification = pd.DataFrame([scores_list_1, scores_1]).T"
   ]
  },
  {
   "cell_type": "code",
   "execution_count": 89,
   "metadata": {
    "scrolled": true
   },
   "outputs": [
    {
     "data": {
      "text/html": [
       "<div>\n",
       "<style scoped>\n",
       "    .dataframe tbody tr th:only-of-type {\n",
       "        vertical-align: middle;\n",
       "    }\n",
       "\n",
       "    .dataframe tbody tr th {\n",
       "        vertical-align: top;\n",
       "    }\n",
       "\n",
       "    .dataframe thead th {\n",
       "        text-align: right;\n",
       "    }\n",
       "</style>\n",
       "<table border=\"1\" class=\"dataframe\">\n",
       "  <thead>\n",
       "    <tr style=\"text-align: right;\">\n",
       "      <th></th>\n",
       "      <th>1</th>\n",
       "    </tr>\n",
       "    <tr>\n",
       "      <th>0</th>\n",
       "      <th></th>\n",
       "    </tr>\n",
       "  </thead>\n",
       "  <tbody>\n",
       "    <tr>\n",
       "      <th>KNN</th>\n",
       "      <td>0.86959</td>\n",
       "    </tr>\n",
       "    <tr>\n",
       "      <th>Logistic</th>\n",
       "      <td>0.903417</td>\n",
       "    </tr>\n",
       "    <tr>\n",
       "      <th>Gaussian</th>\n",
       "      <td>0.7459</td>\n",
       "    </tr>\n",
       "    <tr>\n",
       "      <th>Tree</th>\n",
       "      <td>0.968565</td>\n",
       "    </tr>\n",
       "    <tr>\n",
       "      <th>RandomForest</th>\n",
       "      <td>0.97574</td>\n",
       "    </tr>\n",
       "    <tr>\n",
       "      <th>XGBClassifier</th>\n",
       "      <td>0.976765</td>\n",
       "    </tr>\n",
       "  </tbody>\n",
       "</table>\n",
       "</div>"
      ],
      "text/plain": [
       "                      1\n",
       "0                      \n",
       "KNN             0.86959\n",
       "Logistic       0.903417\n",
       "Gaussian         0.7459\n",
       "Tree           0.968565\n",
       "RandomForest    0.97574\n",
       "XGBClassifier  0.976765"
      ]
     },
     "execution_count": 89,
     "metadata": {},
     "output_type": "execute_result"
    }
   ],
   "source": [
    "score_df_classification.index = score_df_classification[0]\n",
    "del score_df_classification[0]\n",
    "score_df_classification"
   ]
  },
  {
   "cell_type": "raw",
   "metadata": {},
   "source": [
    "It appears that XGBClassifier is the best choice at 97.6765%"
   ]
  }
 ],
 "metadata": {
  "kernelspec": {
   "display_name": "Python 3",
   "language": "python",
   "name": "python3"
  },
  "language_info": {
   "codemirror_mode": {
    "name": "ipython",
    "version": 3
   },
   "file_extension": ".py",
   "mimetype": "text/x-python",
   "name": "python",
   "nbconvert_exporter": "python",
   "pygments_lexer": "ipython3",
   "version": "3.6.5"
  }
 },
 "nbformat": 4,
 "nbformat_minor": 2
}
